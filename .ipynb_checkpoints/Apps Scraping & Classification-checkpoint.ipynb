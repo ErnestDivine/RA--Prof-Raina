{
 "cells": [
  {
   "cell_type": "markdown",
   "id": "2d8b2330",
   "metadata": {},
   "source": [
    "### First Test Run - K Health"
   ]
  },
  {
   "cell_type": "code",
   "execution_count": 37,
   "id": "59cb23c4",
   "metadata": {},
   "outputs": [],
   "source": [
    "# Sample medical app: K Health\n",
    "apps_names_json = [\n",
    "    {\n",
    "        \"App Name\": \"K Health | 24/7 Virtual Care\",\n",
    "        \"App URL\": \"https://play.google.com/store/apps/details?id=ai.kanghealth\"\n",
    "    }\n",
    "]\n",
    "\n",
    "# Sample app details for analysis\n",
    "k_health_detail_json = {\n",
    "    \"title\": \"K Health | 24/7 Virtual Care\",\n",
    "    \"description\": \"24/7 ACCESS TO HIGH-QUALITY MEDICAL CARE FROM YOUR PHONE. NO INSURANCE REQUIRED. \"\n",
    "                   \"Get the treatment you need from licensed medical providers without setting foot in a doctor’s office. \"\n",
    "                   \"Providers on the K Health platform can treat hundreds of medical conditions, from anxiety to UTIs, \"\n",
    "                   \"and prescribe medication to get you feeling better faster. \"\n",
    "                   \"At K Health, we use advanced AI to provide better, more personalized medical care.\",\n",
    "    \"installs\": \"1,000,000+\",\n",
    "    \"score\": 4.5,\n",
    "    \"free\": True,\n",
    "    \"developer\": \"K Health\",\n",
    "    \"genre\": \"Medical\",\n",
    "    \"appId\": \"ai.kanghealth\"\n",
    "}"
   ]
  },
  {
   "cell_type": "code",
   "execution_count": null,
   "id": "8d247df4",
   "metadata": {},
   "outputs": [],
   "source": []
  },
  {
   "cell_type": "code",
   "execution_count": 38,
   "id": "eee5727c",
   "metadata": {},
   "outputs": [],
   "source": [
    "# Define the Compliance keywords & phrases retrieved from Updated FTC Laws\n",
    "compliance_keywords = {\n",
    "    \"body\": [\"FDA\", \"HIPAA\", \"FTC\"],\n",
    "    \n",
    "    \"Privacy\": [\"privacy\", \"data privacy\", \"consumer privacy\", \"personal data\", \n",
    "                \"data confidentiality\", \"health information privacy\", \"confidentiality\", \"privacy assurance\"],\n",
    "    \n",
    "    \"Data Security\": [\"data protection\", \"encryption\", \"secure data handling\", \"access control\", \n",
    "                      \"unauthorized access\", \"data security\", \"sensitive health data\", \"privacy rights\",\n",
    "                      \"secure protocols\", \"data protection measures\"],\n",
    "    \n",
    "    \"User Consent and Transparency\": [\"user consent\", \"informed consent\", \"express consent\", \n",
    "                                      \"user permissions\", \"data sharing agreement\", \"privacy policy\", \n",
    "                                      \"explicit consent\", \"data practices\", \"data use notification\", \n",
    "                                      \"data collection transparency\", \"data handling consent\"],\n",
    "    \n",
    "    \"Misleading or Deceptive Terms\": [\"deceptive\", \"fraud\", \"misleading claims\", \"fraudulent claims\", \n",
    "                                      \"false advertising\", \"implied promise\", \"health benefit claim\", \n",
    "                                      \"deceptive practices\", \"health claims\", \"treatment efficacy\", \n",
    "                                      \"app functionality transparency\"],\n",
    "    \n",
    "    \"Health Information\": [\"protected health information (PHI)\", \"personal health record (PHR)\", \n",
    "                           \"identifiable health information\", \"electronic health information (EHI)\",\n",
    "                           \"sensitive health information\", \"health data\", \"health information privacy\"],\n",
    "    \n",
    "    \"Breach Notification\": [\"data breach\", \"breach notification\", \"unauthorized data sharing\", \n",
    "                            \"exposure of health information\", \"breach definition\", \"health breach\", \n",
    "                            \"data exposure\", \"compromised security\", \"data access breach\"],\n",
    "    \n",
    "    \"Children’s Data\": [\"COPPA compliance\", \"parental consent\", \"child data security\", \"minors' data\", \n",
    "                        \"children's data protection\", \"verified parental consent\", \"data handling for children\", \n",
    "                        \"child data collection\", \"children’s privacy\"],\n",
    "    \n",
    "    \"licensed\": [\"licensed\", \"regulated\", \"compliance\", \"insurance\", \"100% genuine guarantee\", \"accredited\"],\n",
    "    \n",
    "    \"diagnosis\": [\"diagnosis\", \"treatment\", \"personalized care\", \"lab tests\", \"therapy\", \"prescription\", \n",
    "                  \"high-quality\", \"medical\", \"healthcare\", \"clinical\", \"personalized medical care\",\n",
    "                  \"health check-ups\", \"doctor consultations\", \"treatment uses\"],\n",
    "    \n",
    "    \"AI\": [\"AI\", \"artificial intelligence\", \"machine learning\", \"advanced AI\", \"AI-driven care\"]\n",
    "}"
   ]
  },
  {
   "cell_type": "code",
   "execution_count": null,
   "id": "6cfff24c",
   "metadata": {},
   "outputs": [],
   "source": []
  },
  {
   "cell_type": "code",
   "execution_count": 20,
   "id": "f72653d2",
   "metadata": {},
   "outputs": [],
   "source": [
    "# Function to check compliance keywords in app description and return the exact keyword found\n",
    "def check_compliance(app_description):\n",
    "    compliance_results = {}\n",
    "    for category, keywords in compliance_keywords.items():\n",
    "        found_keywords = [keyword for keyword in keywords if keyword.lower() in app_description.lower()]\n",
    "        compliance_results[category] = found_keywords if found_keywords else None  # Set None if no keywords are found\n",
    "    return compliance_results\n",
    "\n",
    "\n",
    "# Function to print compliance results in a readable format\n",
    "def print_compliance_results(compliance_results):\n",
    "    print(\"Compliance Check Results:\\n\")\n",
    "    for category, found_keywords in compliance_results.items():\n",
    "        if found_keywords:\n",
    "            print(f\"{category}: {', '.join(found_keywords)}\")\n",
    "        else:\n",
    "            print(f\"{category}: None\")"
   ]
  },
  {
   "cell_type": "code",
   "execution_count": null,
   "id": "034025e1",
   "metadata": {},
   "outputs": [],
   "source": []
  },
  {
   "cell_type": "code",
   "execution_count": 51,
   "id": "5049127d",
   "metadata": {},
   "outputs": [
    {
     "name": "stdout",
     "output_type": "stream",
     "text": [
      "Compliance Check Results:\n",
      "\n",
      "body: None\n",
      "Privacy: None\n",
      "Data Security: None\n",
      "User Consent and Transparency: None\n",
      "Misleading or Deceptive Terms: None\n",
      "Health Information: None\n",
      "Breach Notification: None\n",
      "Children’s Data: None\n",
      "licensed: licensed, insurance\n",
      "diagnosis: treatment, high-quality, medical, personalized medical care\n",
      "AI: AI, advanced AI\n"
     ]
    }
   ],
   "source": [
    "k_health_description = k_health_detail_json.get(\"description\", \"\")\n",
    "k_health_compliance_result = check_compliance(k_health_description)\n",
    "\n",
    "# Display the results\n",
    "print_compliance_results(k_health_compliance_result)"
   ]
  },
  {
   "cell_type": "code",
   "execution_count": null,
   "id": "45249126",
   "metadata": {},
   "outputs": [],
   "source": []
  },
  {
   "cell_type": "code",
   "execution_count": 55,
   "id": "a7b2e944",
   "metadata": {},
   "outputs": [],
   "source": [
    "# Define the compliance keywords with associated weights\n",
    "weighted_keywords = {\n",
    "    \"body\": {\n",
    "        \"keywords\": [\"FDA\", \"HIPAA\", \"FTC\"],\n",
    "        \"weight\": 4  # High relevance as these are key regulatory bodies\n",
    "    },\n",
    "    \n",
    "    \"Privacy\": {\n",
    "        \"keywords\": [\"privacy\", \"data privacy\", \"consumer privacy\", \"personal data\", \n",
    "                     \"data confidentiality\", \"health information privacy\", \"confidentiality\", \n",
    "                     \"privacy assurance\"],\n",
    "        \"weight\": 3  # High weight as privacy is central to compliance\n",
    "    },\n",
    "    \n",
    "    \"Data Security\": {\n",
    "        \"keywords\": [\"data protection\", \"encryption\", \"secure data handling\", \"access control\",\n",
    "                     \"unauthorized access\", \"data security\", \"sensitive health data\", \n",
    "                     \"privacy rights\", \"secure protocols\", \"data protection measures\"],\n",
    "        \"weight\": 3  # High priority due to its role in protecting user data\n",
    "    },\n",
    "    \n",
    "    \"User Consent and Transparency\": {\n",
    "        \"keywords\": [\"user consent\", \"informed consent\", \"express consent\", \"user permissions\", \n",
    "                     \"data sharing agreement\", \"privacy policy\", \"explicit consent\", \n",
    "                     \"data practices\", \"data use notification\", \"data collection transparency\", \n",
    "                     \"data handling consent\"],\n",
    "        \"weight\": 3  # Important for ensuring user rights and transparency\n",
    "    },\n",
    "    \n",
    "    \"Misleading or Deceptive Terms\": {\n",
    "        \"keywords\": [\"deceptive\", \"fraud\", \"misleading claims\", \"fraudulent claims\", \n",
    "                     \"false advertising\", \"implied promise\", \"health benefit claim\", \n",
    "                     \"deceptive practices\", \"health claims\", \"treatment efficacy\", \n",
    "                     \"app functionality transparency\"],\n",
    "        \"weight\": 4  # Highest relevance for regulatory and legal compliance\n",
    "    },\n",
    "    \n",
    "    \"Health Information\": {\n",
    "        \"keywords\": [\"protected health information (PHI)\", \"personal health record (PHR)\", \n",
    "                     \"identifiable health information\", \"electronic health information (EHI)\",\n",
    "                     \"sensitive health information\", \"health data\", \"health information privacy\"],\n",
    "        \"weight\": 4  # High regulatory relevance due to the sensitivity of health information\n",
    "    },\n",
    "    \n",
    "    \"Breach Notification\": {\n",
    "        \"keywords\": [\"data breach\", \"breach notification\", \"unauthorized data sharing\", \n",
    "                     \"exposure of health information\", \"breach definition\", \"health breach\", \n",
    "                     \"data exposure\", \"compromised security\", \"data access breach\"],\n",
    "        \"weight\": 3  # Important for risk management and legal requirements\n",
    "    },\n",
    "    \n",
    "    \"Children’s Data\": {\n",
    "        \"keywords\": [\"COPPA compliance\", \"parental consent\", \"child data security\", \"minors' data\", \n",
    "                     \"children's data protection\", \"verified parental consent\", \"data handling for children\", \n",
    "                     \"child data collection\", \"children’s privacy\"],\n",
    "        \"weight\": 4  # Very high due to COPPA and unique protections for minors\n",
    "    },\n",
    "    \n",
    "    \"licensed\": {\n",
    "        \"keywords\": [\"licensed\", \"regulated\", \"compliance\", \"insurance\", \"100% genuine guarantee\", \n",
    "                     \"accredited\"],\n",
    "        \"weight\": 2  # Lower regulatory weight but important for indicating trust and legitimacy\n",
    "    },\n",
    "    \n",
    "    \"diagnosis\": {\n",
    "        \"keywords\": [\"diagnosis\", \"treatment\", \"personalized care\", \"lab tests\", \"therapy\", \n",
    "                     \"prescription\", \"high-quality\", \"medical\", \"healthcare\", \"clinical\", \n",
    "                     \"health check-ups\", \"doctor consultations\", \"treatment uses\", \"personalized medical care\"],\n",
    "        \"weight\": 3  # Important for medical accuracy and user expectations\n",
    "    },\n",
    "    \n",
    "    \"AI\": {\n",
    "        \"keywords\": [\"AI\", \"artificial intelligence\", \"machine learning\", \"advanced AI\", \n",
    "                     \"AI-driven care\"],\n",
    "        \"weight\": 2  # Moderate weight due to increasing importance in regulatory scrutiny\n",
    "    }\n",
    "}"
   ]
  },
  {
   "cell_type": "code",
   "execution_count": null,
   "id": "503fd26d",
   "metadata": {},
   "outputs": [],
   "source": []
  },
  {
   "cell_type": "code",
   "execution_count": 48,
   "id": "59468b7c",
   "metadata": {},
   "outputs": [],
   "source": [
    "# Function to check compliance keywords in app description and calculate scores by weight\n",
    "def check_compliance_with_weights(app_description):\n",
    "    compliance_results = {\"high_weight_count\": 0, \"medium_weight_count\": 0, \"low_weight_count\": 0, \"total_score\": 0}\n",
    "    \n",
    "    for category, details in weighted_keywords.items():\n",
    "        found_keywords = [keyword for keyword in details[\"keywords\"] if keyword.lower() in app_description.lower()]\n",
    "        \n",
    "        # Add the count and score based on weight\n",
    "        if found_keywords:\n",
    "            if details[\"weight\"] == 3:\n",
    "                compliance_results[\"high_weight_count\"] += len(found_keywords)\n",
    "            elif details[\"weight\"] == 2:\n",
    "                compliance_results[\"medium_weight_count\"] += len(found_keywords)\n",
    "            elif details[\"weight\"] == 1:\n",
    "                compliance_results[\"low_weight_count\"] += len(found_keywords)\n",
    "            \n",
    "            # Sum up total score with individual keyword scores\n",
    "            compliance_results[\"total_score\"] += len(found_keywords) * details[\"weight\"]\n",
    "    \n",
    "    return compliance_results"
   ]
  },
  {
   "cell_type": "code",
   "execution_count": null,
   "id": "f0daaa3e",
   "metadata": {},
   "outputs": [],
   "source": []
  },
  {
   "cell_type": "code",
   "execution_count": 59,
   "id": "c2cbbfed",
   "metadata": {},
   "outputs": [
    {
     "data": {
      "text/plain": [
       "{'high_weight_count': 4,\n",
       " 'medium_weight_count': 4,\n",
       " 'low_weight_count': 0,\n",
       " 'total_score': 20}"
      ]
     },
     "execution_count": 59,
     "metadata": {},
     "output_type": "execute_result"
    }
   ],
   "source": [
    "# Test with app description\n",
    "k_health_weighted_result = check_compliance_with_weights(k_health_description)\n",
    "\n",
    "# Display results\n",
    "k_health_weighted_result"
   ]
  },
  {
   "cell_type": "code",
   "execution_count": null,
   "id": "096f73b7",
   "metadata": {},
   "outputs": [],
   "source": []
  },
  {
   "cell_type": "code",
   "execution_count": 44,
   "id": "5d1a2b8f",
   "metadata": {},
   "outputs": [],
   "source": [
    "# Define thresholds for classification\n",
    "def classify_compliance(compliance_results):\n",
    "    total_score = compliance_results[\"total_score\"]\n",
    "    high_weight_count = compliance_results[\"high_weight_count\"]\n",
    "    medium_weight_count = compliance_results[\"medium_weight_count\"]\n",
    "    \n",
    "    # Determine classification based on score and high-weight keyword presence\n",
    "    if total_score >= 15 or high_weight_count > 2:\n",
    "        return \"Should be Regulated\"\n",
    "    \n",
    "    elif 8 <= total_score < 15 or (medium_weight_count > 1 and high_weight_count > 0):\n",
    "        return \"Partially - Should be Regulated\"\n",
    "    \n",
    "    else:\n",
    "        return \"Likely Doesn't need to be Regulated\""
   ]
  },
  {
   "cell_type": "code",
   "execution_count": null,
   "id": "c1572254",
   "metadata": {},
   "outputs": [],
   "source": []
  },
  {
   "cell_type": "code",
   "execution_count": 85,
   "id": "2f9cdccb",
   "metadata": {},
   "outputs": [],
   "source": [
    "# Function to perform App classification\n",
    "def run_classification(weighted_result):\n",
    "    # Run classification\n",
    "    classification = classify_compliance(weighted_result)\n",
    "\n",
    "    # Display classification and compliance results\n",
    "    print(\"Compliance Check Summary:\\n\")\n",
    "    print(f\"App Classification: {classification}\")\n",
    "    print(f\"Total Score: {weighted_result['total_score']}\")"
   ]
  },
  {
   "cell_type": "code",
   "execution_count": null,
   "id": "95b9e0a5",
   "metadata": {},
   "outputs": [],
   "source": []
  },
  {
   "cell_type": "code",
   "execution_count": 86,
   "id": "ce6db728",
   "metadata": {},
   "outputs": [
    {
     "name": "stdout",
     "output_type": "stream",
     "text": [
      "Compliance Check Summary:\n",
      "\n",
      "App Classification: Should be Regulated\n",
      "Total Score: 20\n"
     ]
    }
   ],
   "source": [
    "# Run classification\n",
    "run_classification(k_health_weighted_result)"
   ]
  },
  {
   "cell_type": "code",
   "execution_count": null,
   "id": "1b4fa0da",
   "metadata": {},
   "outputs": [],
   "source": []
  },
  {
   "cell_type": "code",
   "execution_count": null,
   "id": "3d300073",
   "metadata": {},
   "outputs": [],
   "source": []
  },
  {
   "cell_type": "markdown",
   "id": "08b7d3b2",
   "metadata": {},
   "source": [
    "### Second Test Run"
   ]
  },
  {
   "cell_type": "code",
   "execution_count": 30,
   "id": "3345c38b",
   "metadata": {},
   "outputs": [],
   "source": [
    "# Sample medical app: MyKetoBrain\n",
    "apps_names_json = [\n",
    "    {\n",
    "        \"App Name\": \"MyKetoBrain\",\n",
    "        \"App URL\": \"https://play.google.com/store/apps/details?id=ch.dinnova.myketobrain\"\n",
    "    }\n",
    "]\n",
    "\n",
    "# Sample app details for analysis\n",
    "keto_brain_detail_json = {\n",
    "    \"title\": \"MyKetoBrain\",\n",
    "    \"description\": \"\"\"\n",
    "    Elevate your keto journey with our Keto Diet Planning App, designed for seamless nutrition management.\n",
    "    With hundreds of nutritionist-approved recipes at your fingertips, tailor your meal plans to fit your unique dietary needs and goals.\n",
    "    Enjoy personalized features like:\n",
    "    - Tracking nutritional intake\n",
    "    - Setting dietary preferences\n",
    "    - Accessing detailed recipe information\n",
    "    - Adding ingredients from recipe details to a digital list to track what you need for your meal plan recipes\n",
    "    - Adding recipes to your favorites list\n",
    "    - Adding your mood for the day and checking past moods in progress details\n",
    "    \n",
    "    Premium packages include:\n",
    "    - Access to over 300 nutritionist-verified recipes\n",
    "    - Ingredient tracking, favorites list, and macro tracking\n",
    "    - Subscription options:\n",
    "        - Essential steps (CHF 117): 3 months\n",
    "        - Balanced routine (CHF 220): 6 months\n",
    "        - Healthy New lifestyle (CHF 350): 12 months\n",
    "    \n",
    "    Start today and make every meal a step toward your ideal keto lifestyle.\n",
    "    \"\"\",\n",
    "    \"installs\": \"1,000+\",\n",
    "    \"score\": 4.75,\n",
    "    \"free\": True,\n",
    "    \"developer\": \"Dinnova.io\",\n",
    "    \"genre\": \"Health & Fitness\",\n",
    "    \"appId\": \"ch.dinnova.myketobrain\"\n",
    "}"
   ]
  },
  {
   "cell_type": "code",
   "execution_count": null,
   "id": "712a0023",
   "metadata": {},
   "outputs": [],
   "source": []
  },
  {
   "cell_type": "code",
   "execution_count": 62,
   "id": "e2da76ac",
   "metadata": {},
   "outputs": [
    {
     "name": "stdout",
     "output_type": "stream",
     "text": [
      "Compliance Check Results:\n",
      "\n",
      "body: None\n",
      "Privacy: None\n",
      "Data Security: None\n",
      "User Consent and Transparency: None\n",
      "Misleading or Deceptive Terms: None\n",
      "Health Information: None\n",
      "Breach Notification: None\n",
      "Children’s Data: None\n",
      "licensed: None\n",
      "diagnosis: None\n",
      "AI: AI\n"
     ]
    }
   ],
   "source": [
    "keto_brain_description = keto_brain_detail_json.get(\"description\", \"\")\n",
    "keto_brain_compliance_result = check_compliance(keto_brain_description)\n",
    "\n",
    "# Display the results\n",
    "print_compliance_results(keto_brain_compliance_result)"
   ]
  },
  {
   "cell_type": "code",
   "execution_count": null,
   "id": "41558f65",
   "metadata": {},
   "outputs": [],
   "source": []
  },
  {
   "cell_type": "code",
   "execution_count": 63,
   "id": "252470e9",
   "metadata": {},
   "outputs": [
    {
     "data": {
      "text/plain": [
       "{'high_weight_count': 0,\n",
       " 'medium_weight_count': 1,\n",
       " 'low_weight_count': 0,\n",
       " 'total_score': 2}"
      ]
     },
     "execution_count": 63,
     "metadata": {},
     "output_type": "execute_result"
    }
   ],
   "source": [
    "# Test with app description\n",
    "keto_brain_weighted_result = check_compliance_with_weights(keto_brain_description)\n",
    "\n",
    "# Display results\n",
    "keto_brain_weighted_result"
   ]
  },
  {
   "cell_type": "code",
   "execution_count": null,
   "id": "5600dfef",
   "metadata": {},
   "outputs": [],
   "source": []
  },
  {
   "cell_type": "code",
   "execution_count": 87,
   "id": "a92b9102",
   "metadata": {},
   "outputs": [
    {
     "name": "stdout",
     "output_type": "stream",
     "text": [
      "Compliance Check Summary:\n",
      "\n",
      "App Classification: Likely Doesn't need to be Regulated\n",
      "Total Score: 2\n"
     ]
    }
   ],
   "source": [
    "# Run classification\n",
    "run_classification(keto_brain_weighted_result)"
   ]
  },
  {
   "cell_type": "code",
   "execution_count": null,
   "id": "aad42496",
   "metadata": {},
   "outputs": [],
   "source": []
  },
  {
   "cell_type": "code",
   "execution_count": null,
   "id": "e3e62918",
   "metadata": {},
   "outputs": [],
   "source": []
  },
  {
   "cell_type": "markdown",
   "id": "751e14f5",
   "metadata": {},
   "source": [
    "### Third Test Run"
   ]
  },
  {
   "cell_type": "code",
   "execution_count": 34,
   "id": "457f8cc4",
   "metadata": {},
   "outputs": [],
   "source": [
    "apps_names_json = [\n",
    "    {\n",
    "        \"App Name\": \"TATA 1mg Online Healthcare App\",\n",
    "        \"App URL\": \"https://play.google.com/store/apps/details?id=com.aranoah.healthkart.plus\"\n",
    "    }\n",
    "]\n",
    "\n",
    "tata_detail_json = {\n",
    "    \"title\": \"TATA 1mg Online Healthcare App\",\n",
    "    \"description\": \"\"\"\n",
    "About Tata 1mg\n",
    "\n",
    "We are India's leading, and most-trusted online pharmacy and healthcare app. From doctor consultations on chat to online medicine delivery and lab tests at home, we have it all covered for you. We are active in 1000+ cities, including Delhi, Gurgaon, Noida, Mumbai, Pune, Ahmedabad, Lucknow, Bangalore, Kolkata, and many more.\n",
    "\n",
    "At Tata 1mg, you can:\n",
    "- Order Medicines Online\n",
    "- Book Lab Tests\n",
    "- Consult Doctors Online\n",
    "- Read Health Tips\n",
    "- View Medicine Information\n",
    "- Set Medicine Reminders\n",
    "\n",
    "Get medicines and health products delivered at home with same-day or next-day delivery. Download the Tata 1mg app now.\n",
    "\n",
    "Your Favourite Online Pharmacy:\n",
    "With over 2 lakh allopathy medicines available at the best prices, Tata 1mg is your one-stop destination for Homeopathy and Ayurvedic medicines, health supplements, personal hygiene, and more. Choose from top brands like Dabur, Himalaya, SBL Homeopathy, Organic India, Accu-Chek, OneTouch, and more.\n",
    "\n",
    "Easily upload your list of medicines on our app, and we will place your order for you. Now, avail of the best discounts and savings on medical bills. Check all our offers here.\n",
    "\n",
    "All products sold on our pharmacy app come with a 100% genuine guarantee.\n",
    "\n",
    "Book Lab Tests & Health Check-ups:\n",
    "Book health check-ups and lab tests from the comfort of your home at the best prices. Tata 1mg offers bookings for over 2,000 tests, tested by 120+ top verified labs such as Dr. Lal Path Labs, SRL Diagnostics, and Thyrocare. Enjoy free home sample collection and online report access.\n",
    "\n",
    "Get the best discounts on diagnostic services like blood tests, thyroid tests, diabetes tests, and more.\n",
    "\n",
    "Consult India’s Best Doctors Online for Free:\n",
    "Our health app allows you to consult doctors online from the comfort of your home. Chat privately with registered medical specialists. Find doctors and book appointments from all specialties, including General Physicians, Gynaecologists, Dermatologists, Urologists, Gastroenterologists, Pediatricians, and Neurologists.\n",
    "\n",
    "View Medicine Information:\n",
    "Besides being an online pharmacy app, we provide accurate, authoritative, and trustworthy information on medicines to help people use their medications safely. Information includes treatment uses, side effects, usage recommendations, safety warnings, expert advice, and answers to patient FAQs.\n",
    "\n",
    "Read Regular Health Tips:\n",
    "Get personal and useful health tips written by expert doctors. Topics include Ayurveda benefits, maintaining personal hygiene, early warning symptoms of various diseases, and more.\n",
    "\n",
    "Awards & Recognition:\n",
    "At Tata 1mg, our goal is to make healthcare understandable, accessible, and affordable. Since our journey began in 2015, we have been recognized with titles such as:\n",
    "- BML Munjal Award for 'Business Excellence through Learning & Development'\n",
    "- Best Online Pharmacy in India Award\n",
    "- Top 50 venture in The Smart CEO-Startup50 India\n",
    "- India's only ISO/IEC 27001 & LegitScript certified online healthcare platform\n",
    "- VC Circle Award for \"Most Promising Healthcare Startup\"\n",
    "- Ranked Top App in Medical Category in India for Android & iOS\n",
    "- Recognized by the Government of India - Ministry of Health & Family Welfare as a trusted m-health initiative\n",
    "\n",
    "We have been selected as the only company globally for SD#3 \"Health & Well Being for all\" by the Unreasonable Group and the US State Department.\n",
    "    \"\"\",\n",
    "    \"installs\": \"10,000,000+\",\n",
    "    \"score\": 4.77,\n",
    "    \"free\": True,\n",
    "    \"developer\": \"Tata 1MG Healthcare Solutions Private Limited\",\n",
    "    \"genre\": \"Medical\",\n",
    "    \"appId\": \"com.aranoah.healthkart.plus\"\n",
    "}"
   ]
  },
  {
   "cell_type": "code",
   "execution_count": null,
   "id": "c6bea437",
   "metadata": {},
   "outputs": [],
   "source": []
  },
  {
   "cell_type": "code",
   "execution_count": 65,
   "id": "3b3a7c0c",
   "metadata": {},
   "outputs": [
    {
     "name": "stdout",
     "output_type": "stream",
     "text": [
      "Compliance Check Results:\n",
      "\n",
      "body: None\n",
      "Privacy: None\n",
      "Data Security: None\n",
      "User Consent and Transparency: None\n",
      "Misleading or Deceptive Terms: None\n",
      "Health Information: None\n",
      "Breach Notification: None\n",
      "Children’s Data: None\n",
      "licensed: 100% genuine guarantee\n",
      "diagnosis: treatment, lab tests, medical, healthcare, health check-ups, doctor consultations, treatment uses\n",
      "AI: AI\n"
     ]
    }
   ],
   "source": [
    "tata_brain_description = tata_detail_json.get(\"description\", \"\")\n",
    "tata_brain_compliance_result = check_compliance(tata_brain_description)\n",
    "\n",
    "# Display the results\n",
    "print_compliance_results(tata_brain_compliance_result)"
   ]
  },
  {
   "cell_type": "code",
   "execution_count": null,
   "id": "3cdd6c89",
   "metadata": {},
   "outputs": [],
   "source": []
  },
  {
   "cell_type": "code",
   "execution_count": 66,
   "id": "9374402a",
   "metadata": {},
   "outputs": [
    {
     "data": {
      "text/plain": [
       "{'high_weight_count': 7,\n",
       " 'medium_weight_count': 2,\n",
       " 'low_weight_count': 0,\n",
       " 'total_score': 25}"
      ]
     },
     "execution_count": 66,
     "metadata": {},
     "output_type": "execute_result"
    }
   ],
   "source": [
    "# Test with app description\n",
    "tata_brain_weighted_result = check_compliance_with_weights(tata_brain_description)\n",
    "\n",
    "# Display results\n",
    "tata_brain_weighted_result"
   ]
  },
  {
   "cell_type": "code",
   "execution_count": null,
   "id": "3f37a839",
   "metadata": {},
   "outputs": [],
   "source": []
  },
  {
   "cell_type": "code",
   "execution_count": 88,
   "id": "f18890cd",
   "metadata": {},
   "outputs": [
    {
     "name": "stdout",
     "output_type": "stream",
     "text": [
      "Compliance Check Summary:\n",
      "\n",
      "App Classification: Should be Regulated\n",
      "Total Score: 25\n"
     ]
    }
   ],
   "source": [
    "# Run classification\n",
    "run_classification(tata_brain_weighted_result)"
   ]
  },
  {
   "cell_type": "code",
   "execution_count": null,
   "id": "a6d70ccb",
   "metadata": {},
   "outputs": [],
   "source": []
  },
  {
   "cell_type": "code",
   "execution_count": null,
   "id": "394ca612",
   "metadata": {},
   "outputs": [],
   "source": []
  },
  {
   "cell_type": "markdown",
   "id": "53fb6ac2",
   "metadata": {},
   "source": [
    "### Fourth Test Run"
   ]
  },
  {
   "cell_type": "code",
   "execution_count": 80,
   "id": "f8c5be68",
   "metadata": {},
   "outputs": [],
   "source": [
    "apps_names_json = [\n",
    "    {\n",
    "        \"App Name\": \"AI Dermatologist: Skin Scanner\",\n",
    "        \"App URL\": \"https://play.google.com/store/apps/details?id=com.aidermatologist\"\n",
    "    }\n",
    "]\n",
    "\n",
    "ai_dermatologist_detail_json = {\n",
    "    \"title\": \"AI Dermatologist: Skin Scanner\",\n",
    "    \"description\": \"\"\"\n",
    "AI-Dermatologist: Your Personal Skin Health Monitoring App\n",
    "\n",
    "Experience AI-Dermatologist, a cutting-edge app for monitoring skin health and identifying potential skin conditions that may require attention.\n",
    "\n",
    "With AI-Dermatologist, you can:\n",
    "- Capture and monitor skin spots, birthmarks, moles, and other skin conditions, including angiomas, warts, and papillomas.\n",
    "- Track changes over time by uploading and saving photos.\n",
    "- Log the locations of skin conditions on your body for organized record-keeping.\n",
    "- Receive reminders to take new photos and update your skin health records.\n",
    "- Monitor trends in baseline and follow-up results for a holistic view of skin health.\n",
    "\n",
    "Note: AI-Dermatologist is not a diagnostic tool and does not replace a doctor’s visit. This app is for self-examination purposes, not an online dermatology service. For symptoms such as irritation, itchiness, or bleeding, consult a healthcare professional promptly to address potential risks like melanoma.\n",
    "\n",
    "Download AI-Dermatologist and leverage the power of AI and dermatological expertise to prioritize your skin health.\n",
    "\n",
    "Terms of Use: http://ai-derm.com/terms/terms_of_use.html\n",
    "Privacy Policy: http://ai-derm.com/privacy/privacy.html\n",
    "    \"\"\",\n",
    "    \"installs\": \"100,000+\",\n",
    "    \"score\": 4.52,\n",
    "    \"free\": True,\n",
    "    \"developer\": \"Acina\",\n",
    "    \"genre\": \"Health & Fitness\",\n",
    "    \"appId\": \"com.aidermatologist\"\n",
    "}"
   ]
  },
  {
   "cell_type": "code",
   "execution_count": null,
   "id": "2a3831ff",
   "metadata": {},
   "outputs": [],
   "source": []
  },
  {
   "cell_type": "code",
   "execution_count": 81,
   "id": "9e5a2d0f",
   "metadata": {},
   "outputs": [
    {
     "name": "stdout",
     "output_type": "stream",
     "text": [
      "Compliance Check Results:\n",
      "\n",
      "body: None\n",
      "Privacy: privacy\n",
      "Data Security: None\n",
      "User Consent and Transparency: privacy policy\n",
      "Misleading or Deceptive Terms: None\n",
      "Health Information: None\n",
      "Breach Notification: None\n",
      "Children’s Data: None\n",
      "licensed: None\n",
      "diagnosis: healthcare\n",
      "AI: AI\n"
     ]
    }
   ],
   "source": [
    "ai_dermatologist_description = ai_dermatologist_detail_json.get(\"description\", \"\")\n",
    "ai_dermatologist_compliance_result = check_compliance(ai_dermatologist_description)\n",
    "\n",
    "# Display the results\n",
    "print_compliance_results(ai_dermatologist_compliance_result)"
   ]
  },
  {
   "cell_type": "code",
   "execution_count": null,
   "id": "683c54cb",
   "metadata": {},
   "outputs": [],
   "source": []
  },
  {
   "cell_type": "code",
   "execution_count": 83,
   "id": "22408ff0",
   "metadata": {},
   "outputs": [
    {
     "data": {
      "text/plain": [
       "{'high_weight_count': 3,\n",
       " 'medium_weight_count': 1,\n",
       " 'low_weight_count': 0,\n",
       " 'total_score': 11}"
      ]
     },
     "execution_count": 83,
     "metadata": {},
     "output_type": "execute_result"
    }
   ],
   "source": [
    "# Test with app description\n",
    "ai_dermatologist_weighted_result = check_compliance_with_weights(ai_dermatologist_description)\n",
    "\n",
    "# Display results\n",
    "ai_dermatologist_weighted_result"
   ]
  },
  {
   "cell_type": "code",
   "execution_count": null,
   "id": "9697426d",
   "metadata": {},
   "outputs": [],
   "source": []
  },
  {
   "cell_type": "code",
   "execution_count": 89,
   "id": "afbb1122",
   "metadata": {},
   "outputs": [
    {
     "name": "stdout",
     "output_type": "stream",
     "text": [
      "Compliance Check Summary:\n",
      "\n",
      "App Classification: Should be Regulated\n",
      "Total Score: 11\n"
     ]
    }
   ],
   "source": [
    "# Run classification\n",
    "run_classification(ai_dermatologist_weighted_result)"
   ]
  },
  {
   "cell_type": "code",
   "execution_count": null,
   "id": "5f6bc7e1",
   "metadata": {},
   "outputs": [],
   "source": []
  },
  {
   "cell_type": "code",
   "execution_count": null,
   "id": "4379c0cd",
   "metadata": {},
   "outputs": [],
   "source": []
  },
  {
   "cell_type": "code",
   "execution_count": null,
   "id": "82a88da9",
   "metadata": {},
   "outputs": [],
   "source": []
  },
  {
   "cell_type": "code",
   "execution_count": null,
   "id": "f05039d3",
   "metadata": {},
   "outputs": [],
   "source": []
  }
 ],
 "metadata": {
  "kernelspec": {
   "display_name": "Python 3 (ipykernel)",
   "language": "python",
   "name": "python3"
  },
  "language_info": {
   "codemirror_mode": {
    "name": "ipython",
    "version": 3
   },
   "file_extension": ".py",
   "mimetype": "text/x-python",
   "name": "python",
   "nbconvert_exporter": "python",
   "pygments_lexer": "ipython3",
   "version": "3.11.7"
  }
 },
 "nbformat": 4,
 "nbformat_minor": 5
}
