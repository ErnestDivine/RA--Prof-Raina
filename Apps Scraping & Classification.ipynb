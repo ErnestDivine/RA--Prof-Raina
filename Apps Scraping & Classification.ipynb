{
 "cells": [
  {
   "cell_type": "markdown",
   "id": "2d8b2330",
   "metadata": {},
   "source": [
    "### First Test Run - K Health"
   ]
  },
  {
   "cell_type": "code",
   "execution_count": 1,
   "id": "59cb23c4",
   "metadata": {},
   "outputs": [],
   "source": [
    "# Sample medical app: K Health\n",
    "k_health_app_name = {\n",
    "        \"App Name\": \"K Health | 24/7 Virtual Care\",\n",
    "        \"App URL\": \"https://play.google.com/store/apps/details?id=ai.kanghealth\"\n",
    "}\n",
    "\n",
    "\n",
    "# Sample app details for analysis\n",
    "k_health_detail = {\n",
    "    \"title\": \"K Health | 24/7 Virtual Care\",\n",
    "    \"description\": \"24/7 ACCESS TO HIGH-QUALITY MEDICAL CARE FROM YOUR PHONE. NO INSURANCE REQUIRED. \"\n",
    "                   \"Get the treatment you need from licensed medical providers without setting foot in a doctor’s office. \"\n",
    "                   \"Providers on the K Health platform can treat hundreds of medical conditions, from anxiety to UTIs, \"\n",
    "                   \"and prescribe medication to get you feeling better faster. \"\n",
    "                   \"At K Health, we use advanced AI to provide better, more personalized medical care.\",\n",
    "    \"installs\": \"1,000,000+\",\n",
    "    \"score\": 4.5,\n",
    "    \"free\": True,\n",
    "    \"developer\": \"K Health\",\n",
    "    \"genre\": \"Medical\",\n",
    "    \"appId\": \"ai.kanghealth\"\n",
    "}"
   ]
  },
  {
   "cell_type": "code",
   "execution_count": null,
   "id": "8d247df4",
   "metadata": {},
   "outputs": [],
   "source": []
  },
  {
   "cell_type": "code",
   "execution_count": 2,
   "id": "eee5727c",
   "metadata": {},
   "outputs": [],
   "source": [
    "# Define the Compliance keywords & phrases retrieved from Updated FTC Laws\n",
    "compliance_keywords = {\n",
    "    \"body\": [\"FDA\", \"HIPAA\", \"FTC\"],\n",
    "    \n",
    "    \"Privacy\": [\"privacy\", \"data privacy\", \"consumer privacy\", \"personal data\", \n",
    "                \"data confidentiality\", \"health information privacy\", \"confidentiality\", \"privacy assurance\"],\n",
    "    \n",
    "    \"Data Security\": [\"data protection\", \"encryption\", \"secure data handling\", \"access control\", \n",
    "                      \"unauthorized access\", \"data security\", \"sensitive health data\", \"privacy rights\",\n",
    "                      \"secure protocols\", \"data protection measures\"],\n",
    "    \n",
    "    \"User Consent and Transparency\": [\"user consent\", \"informed consent\", \"express consent\", \n",
    "                                      \"user permissions\", \"data sharing agreement\", \"privacy policy\", \n",
    "                                      \"explicit consent\", \"data practices\", \"data use notification\", \n",
    "                                      \"data collection transparency\", \"data handling consent\"],\n",
    "    \n",
    "    \"Misleading or Deceptive Terms\": [\"deceptive\", \"fraud\", \"misleading claims\", \"fraudulent claims\", \n",
    "                                      \"false advertising\", \"implied promise\", \"health benefit claim\", \n",
    "                                      \"deceptive practices\", \"health claims\", \"treatment efficacy\", \n",
    "                                      \"app functionality transparency\"],\n",
    "    \n",
    "    \"Health Information\": [\"protected health information (PHI)\", \"personal health record (PHR)\", \n",
    "                           \"identifiable health information\", \"electronic health information (EHI)\",\n",
    "                           \"sensitive health information\", \"health data\", \"health information privacy\"],\n",
    "    \n",
    "   # \"Breach Notification\": [\"data breach\", \"breach notification\", \"unauthorized data sharing\", \n",
    "   #                         \"exposure of health information\", \"breach definition\", \"health breach\", \n",
    "   #                         \"data exposure\", \"compromised security\", \"data access breach\"],\n",
    "    # \"unauthorized data sharing\", \"data exposure\"\n",
    "    # disease management\n",
    "    \"Children’s Data\": [\"COPPA compliance\", \"parental consent\", \"child data security\", \"minors' data\", \n",
    "                        \"children's data protection\", \"verified parental consent\", \"data handling for children\", \n",
    "                        \"child data collection\", \"children’s privacy\"],\n",
    "    \n",
    "    \"licensed\": [\"licensed\", \"regulated\", \"compliance\", \"insurance\", \"100% genuine guarantee\", \"accredited\"],\n",
    "    \n",
    "    \"diagnosis\": [\"diagnosis\", \"treatment\", \"personalized care\", \"lab tests\", \"therapy\", \"prescription\", \n",
    "                  \"high-quality\", \"medical\", \"healthcare\", \"clinical\", \"personalized medical care\",\n",
    "                  \"health check-ups\", \"doctor consultations\", \"treatment uses\", \"cure\"],\n",
    "    \n",
    "    \"AI\": [\"AI\", \"artificial intelligence\", \"machine learning\", \"advanced AI\", \"AI-driven care\"]\n",
    "}"
   ]
  },
  {
   "cell_type": "code",
   "execution_count": null,
   "id": "6cfff24c",
   "metadata": {},
   "outputs": [],
   "source": []
  },
  {
   "cell_type": "code",
   "execution_count": 3,
   "id": "f72653d2",
   "metadata": {},
   "outputs": [],
   "source": [
    "# Function to check compliance keywords in app description and return the exact keyword found\n",
    "def check_compliance(app_description):\n",
    "    compliance_results = {}\n",
    "    for category, keywords in compliance_keywords.items():\n",
    "        found_keywords = [keyword for keyword in keywords if keyword.lower() in app_description.lower()]\n",
    "        compliance_results[category] = found_keywords if found_keywords else None  # Set None if no keywords are found\n",
    "    return compliance_results\n",
    "\n",
    "\n",
    "# Function to print compliance results in a readable format\n",
    "def print_compliance_results(compliance_results):\n",
    "    print(\"Compliance Check Results:\\n\")\n",
    "    for category, found_keywords in compliance_results.items():\n",
    "        if found_keywords:\n",
    "            print(f\"{category}: {', '.join(found_keywords)}\")\n",
    "        else:\n",
    "            print(f\"{category}: None\")"
   ]
  },
  {
   "cell_type": "code",
   "execution_count": null,
   "id": "034025e1",
   "metadata": {},
   "outputs": [],
   "source": []
  },
  {
   "cell_type": "code",
   "execution_count": 4,
   "id": "5049127d",
   "metadata": {},
   "outputs": [
    {
     "name": "stdout",
     "output_type": "stream",
     "text": [
      "Compliance Check Results:\n",
      "\n",
      "body: None\n",
      "Privacy: None\n",
      "Data Security: None\n",
      "User Consent and Transparency: None\n",
      "Misleading or Deceptive Terms: None\n",
      "Health Information: None\n",
      "Breach Notification: None\n",
      "Children’s Data: None\n",
      "licensed: licensed, insurance\n",
      "diagnosis: treatment, high-quality, medical, personalized medical care\n",
      "AI: AI, advanced AI\n"
     ]
    }
   ],
   "source": [
    "k_health_description = k_health_detail.get(\"description\", \"\")\n",
    "k_health_compliance_result = check_compliance(k_health_description)\n",
    "\n",
    "# Display the results\n",
    "print_compliance_results(k_health_compliance_result)"
   ]
  },
  {
   "cell_type": "code",
   "execution_count": null,
   "id": "45249126",
   "metadata": {},
   "outputs": [],
   "source": []
  },
  {
   "cell_type": "code",
   "execution_count": 5,
   "id": "a7b2e944",
   "metadata": {},
   "outputs": [],
   "source": [
    "# Define the compliance keywords with associated weights\n",
    "weighted_keywords = {\n",
    "    \"body\": {\n",
    "        \"keywords\": [\"FDA\", \"HIPAA\", \"FTC\"],\n",
    "        \"weight\": 4  # High relevance as these are key regulatory bodies\n",
    "    },\n",
    "    \n",
    "    \"Privacy\": {\n",
    "        \"keywords\": [\"privacy\", \"data privacy\", \"consumer privacy\", \"personal data\", \n",
    "                     \"data confidentiality\", \"health information privacy\", \"confidentiality\", \n",
    "                     \"privacy assurance\"],\n",
    "        \"weight\": 3  # High weight as privacy is central to compliance\n",
    "    },\n",
    "    \n",
    "    \"Data Security\": {\n",
    "        \"keywords\": [\"data protection\", \"encryption\", \"secure data handling\", \"access control\",\n",
    "                     \"unauthorized access\", \"data security\", \"sensitive health data\", \n",
    "                     \"privacy rights\", \"secure protocols\", \"data protection measures\"],\n",
    "        \"weight\": 3  # High priority due to its role in protecting user data\n",
    "    },\n",
    "    \n",
    "    \"User Consent and Transparency\": {\n",
    "        \"keywords\": [\"user consent\", \"informed consent\", \"express consent\", \"user permissions\", \n",
    "                     \"data sharing agreement\", \"privacy policy\", \"explicit consent\", \n",
    "                     \"data practices\", \"data use notification\", \"data collection transparency\", \n",
    "                     \"data handling consent\"],\n",
    "        \"weight\": 3  # Important for ensuring user rights and transparency\n",
    "    },\n",
    "    \n",
    "    \"Misleading or Deceptive Terms\": {\n",
    "        \"keywords\": [\"deceptive\", \"fraud\", \"misleading claims\", \"fraudulent claims\", \n",
    "                     \"false advertising\", \"implied promise\", \"health benefit claim\", \n",
    "                     \"deceptive practices\", \"health claims\", \"treatment efficacy\", \n",
    "                     \"app functionality transparency\"],\n",
    "        \"weight\": 4  # Highest relevance for regulatory and legal compliance\n",
    "    },\n",
    "    \n",
    "    \"Health Information\": {\n",
    "        \"keywords\": [\"protected health information (PHI)\", \"personal health record (PHR)\", \n",
    "                     \"identifiable health information\", \"electronic health information (EHI)\",\n",
    "                     \"sensitive health information\", \"health data\", \"health information privacy\"],\n",
    "        \"weight\": 4  # High regulatory relevance due to the sensitivity of health information\n",
    "    },\n",
    "    \n",
    "    \"Breach Notification\": {\n",
    "        \"keywords\": [\"data breach\", \"breach notification\", \"unauthorized data sharing\", \n",
    "                     \"exposure of health information\", \"breach definition\", \"health breach\", \n",
    "                     \"data exposure\", \"compromised security\", \"data access breach\"],\n",
    "        \"weight\": 3  # Important for risk management and legal requirements\n",
    "    },\n",
    "    \n",
    "    \"Children’s Data\": {\n",
    "        \"keywords\": [\"COPPA compliance\", \"parental consent\", \"child data security\", \"minors' data\", \n",
    "                     \"children's data protection\", \"verified parental consent\", \"data handling for children\", \n",
    "                     \"child data collection\", \"children’s privacy\"],\n",
    "        \"weight\": 4  # Very high due to COPPA and unique protections for minors\n",
    "    },\n",
    "    \n",
    "    \"licensed\": {\n",
    "        \"keywords\": [\"licensed\", \"regulated\", \"compliance\", \"insurance\", \"100% genuine guarantee\", \n",
    "                     \"accredited\"],\n",
    "        \"weight\": 2  # Lower regulatory weight but important for indicating trust and legitimacy\n",
    "    },\n",
    "    \n",
    "    \"diagnosis\": {\n",
    "        \"keywords\": [\"diagnosis\", \"treatment\", \"personalized care\", \"lab tests\", \"therapy\", \n",
    "                     \"prescription\", \"high-quality\", \"medical\", \"healthcare\", \"clinical\", \n",
    "                     \"health check-ups\", \"doctor consultations\", \"treatment uses\", \"personalized medical care\"],\n",
    "        \"weight\": 3  # Important for medical accuracy and user expectations\n",
    "    },\n",
    "    \n",
    "    \"AI\": {\n",
    "        \"keywords\": [\"AI\", \"artificial intelligence\", \"machine learning\", \"advanced AI\", \n",
    "                     \"AI-driven care\"],\n",
    "        \"weight\": 2  # Moderate weight due to increasing importance in regulatory scrutiny\n",
    "    }\n",
    "}"
   ]
  },
  {
   "cell_type": "code",
   "execution_count": null,
   "id": "503fd26d",
   "metadata": {},
   "outputs": [],
   "source": []
  },
  {
   "cell_type": "code",
   "execution_count": 6,
   "id": "59468b7c",
   "metadata": {},
   "outputs": [],
   "source": [
    "# Function to check compliance keywords in app description and calculate scores by weight\n",
    "def check_compliance_with_weights(app_description):\n",
    "    compliance_results = {\"high_weight_count\": 0, \"medium_weight_count\": 0, \"low_weight_count\": 0, \"total_score\": 0}\n",
    "    \n",
    "    for category, details in weighted_keywords.items():\n",
    "        found_keywords = [keyword for keyword in details[\"keywords\"] if keyword.lower() in app_description.lower()]\n",
    "        \n",
    "        # Add the count and score based on weight\n",
    "        if found_keywords:\n",
    "            if details[\"weight\"] == 3:\n",
    "                compliance_results[\"high_weight_count\"] += len(found_keywords)\n",
    "            elif details[\"weight\"] == 2:\n",
    "                compliance_results[\"medium_weight_count\"] += len(found_keywords)\n",
    "            elif details[\"weight\"] == 1:\n",
    "                compliance_results[\"low_weight_count\"] += len(found_keywords)\n",
    "            \n",
    "            # Sum up total score with individual keyword scores\n",
    "            compliance_results[\"total_score\"] += len(found_keywords) * details[\"weight\"]\n",
    "    \n",
    "    return compliance_results"
   ]
  },
  {
   "cell_type": "code",
   "execution_count": null,
   "id": "f0daaa3e",
   "metadata": {},
   "outputs": [],
   "source": []
  },
  {
   "cell_type": "code",
   "execution_count": 7,
   "id": "c2cbbfed",
   "metadata": {},
   "outputs": [
    {
     "data": {
      "text/plain": [
       "{'high_weight_count': 4,\n",
       " 'medium_weight_count': 4,\n",
       " 'low_weight_count': 0,\n",
       " 'total_score': 20}"
      ]
     },
     "execution_count": 7,
     "metadata": {},
     "output_type": "execute_result"
    }
   ],
   "source": [
    "# Test with app description\n",
    "k_health_weighted_result = check_compliance_with_weights(k_health_description)\n",
    "\n",
    "# Display results\n",
    "k_health_weighted_result"
   ]
  },
  {
   "cell_type": "code",
   "execution_count": null,
   "id": "096f73b7",
   "metadata": {},
   "outputs": [],
   "source": []
  },
  {
   "cell_type": "code",
   "execution_count": 8,
   "id": "5d1a2b8f",
   "metadata": {},
   "outputs": [],
   "source": [
    "# Define thresholds for classification\n",
    "def classify_compliance(compliance_results):\n",
    "    total_score = compliance_results[\"total_score\"]\n",
    "    high_weight_count = compliance_results[\"high_weight_count\"]\n",
    "    medium_weight_count = compliance_results[\"medium_weight_count\"]\n",
    "    \n",
    "    # Determine classification based on score and high-weight keyword presence\n",
    "    if total_score >= 15 or high_weight_count > 2:\n",
    "        return \"Should be Regulated\"\n",
    "    \n",
    "    elif 8 <= total_score < 15 or (medium_weight_count > 1 and high_weight_count > 0):\n",
    "        return \"Partially - Should be Regulated\"\n",
    "    \n",
    "    else:\n",
    "        return \"Likely Doesn't need to be Regulated\""
   ]
  },
  {
   "cell_type": "code",
   "execution_count": null,
   "id": "c1572254",
   "metadata": {},
   "outputs": [],
   "source": []
  },
  {
   "cell_type": "code",
   "execution_count": 37,
   "id": "2f9cdccb",
   "metadata": {},
   "outputs": [],
   "source": [
    "# Function to perform App classification\n",
    "def run_classification(weighted_result):\n",
    "    # Run classification\n",
    "    classification = classify_compliance(weighted_result)\n",
    "\n",
    "    # Display classification and compliance results\n",
    "#     print(\"Compliance Check Summary:\\n\")\n",
    "#     print(f\"App Classification: {classification}\")\n",
    "#     print(f\"Total Score: {weighted_result['total_score']}\")\n",
    "    \n",
    "    return classification"
   ]
  },
  {
   "cell_type": "code",
   "execution_count": null,
   "id": "95b9e0a5",
   "metadata": {},
   "outputs": [],
   "source": []
  },
  {
   "cell_type": "code",
   "execution_count": 10,
   "id": "ce6db728",
   "metadata": {},
   "outputs": [
    {
     "name": "stdout",
     "output_type": "stream",
     "text": [
      "Compliance Check Summary:\n",
      "\n",
      "App Classification: Should be Regulated\n",
      "Total Score: 20\n"
     ]
    }
   ],
   "source": [
    "# Run classification\n",
    "k_label = run_classification(k_health_weighted_result)"
   ]
  },
  {
   "cell_type": "code",
   "execution_count": null,
   "id": "1b4fa0da",
   "metadata": {},
   "outputs": [],
   "source": []
  },
  {
   "cell_type": "code",
   "execution_count": null,
   "id": "3d300073",
   "metadata": {},
   "outputs": [],
   "source": []
  },
  {
   "cell_type": "markdown",
   "id": "08b7d3b2",
   "metadata": {},
   "source": [
    "### Second Test Run"
   ]
  },
  {
   "cell_type": "code",
   "execution_count": 11,
   "id": "3345c38b",
   "metadata": {},
   "outputs": [],
   "source": [
    "# Sample medical app: MyKetoBrain\n",
    "keto_brain_app_name = {\n",
    "        \"App Name\": \"MyKetoBrain\",\n",
    "        \"App URL\": \"https://play.google.com/store/apps/details?id=ch.dinnova.myketobrain\"\n",
    "}\n",
    "\n",
    "\n",
    "# Sample app details for analysis\n",
    "keto_brain_detail = {\n",
    "    \"title\": \"MyKetoBrain\",\n",
    "    \"description\": \"\"\"\n",
    "    Elevate your keto journey with our Keto Diet Planning App, designed for seamless nutrition management.\n",
    "    With hundreds of nutritionist-approved recipes at your fingertips, tailor your meal plans to fit your unique dietary needs and goals.\n",
    "    Enjoy personalized features like:\n",
    "    - Tracking nutritional intake\n",
    "    - Setting dietary preferences\n",
    "    - Accessing detailed recipe information\n",
    "    - Adding ingredients from recipe details to a digital list to track what you need for your meal plan recipes\n",
    "    - Adding recipes to your favorites list\n",
    "    - Adding your mood for the day and checking past moods in progress details\n",
    "    \n",
    "    Premium packages include:\n",
    "    - Access to over 300 nutritionist-verified recipes\n",
    "    - Ingredient tracking, favorites list, and macro tracking\n",
    "    - Subscription options:\n",
    "        - Essential steps (CHF 117): 3 months\n",
    "        - Balanced routine (CHF 220): 6 months\n",
    "        - Healthy New lifestyle (CHF 350): 12 months\n",
    "    \n",
    "    Start today and make every meal a step toward your ideal keto lifestyle.\n",
    "    \"\"\",\n",
    "    \"installs\": \"1,000+\",\n",
    "    \"score\": 4.75,\n",
    "    \"free\": True,\n",
    "    \"developer\": \"Dinnova.io\",\n",
    "    \"genre\": \"Health & Fitness\",\n",
    "    \"appId\": \"ch.dinnova.myketobrain\"\n",
    "}"
   ]
  },
  {
   "cell_type": "code",
   "execution_count": null,
   "id": "712a0023",
   "metadata": {},
   "outputs": [],
   "source": []
  },
  {
   "cell_type": "code",
   "execution_count": 12,
   "id": "e2da76ac",
   "metadata": {},
   "outputs": [
    {
     "name": "stdout",
     "output_type": "stream",
     "text": [
      "Compliance Check Results:\n",
      "\n",
      "body: None\n",
      "Privacy: None\n",
      "Data Security: None\n",
      "User Consent and Transparency: None\n",
      "Misleading or Deceptive Terms: None\n",
      "Health Information: None\n",
      "Breach Notification: None\n",
      "Children’s Data: None\n",
      "licensed: None\n",
      "diagnosis: None\n",
      "AI: AI\n"
     ]
    }
   ],
   "source": [
    "keto_brain_description = keto_brain_detail.get(\"description\", \"\")\n",
    "keto_brain_compliance_result = check_compliance(keto_brain_description)\n",
    "\n",
    "# Display the results\n",
    "print_compliance_results(keto_brain_compliance_result)"
   ]
  },
  {
   "cell_type": "code",
   "execution_count": null,
   "id": "41558f65",
   "metadata": {},
   "outputs": [],
   "source": []
  },
  {
   "cell_type": "code",
   "execution_count": 13,
   "id": "252470e9",
   "metadata": {},
   "outputs": [
    {
     "data": {
      "text/plain": [
       "{'high_weight_count': 0,\n",
       " 'medium_weight_count': 1,\n",
       " 'low_weight_count': 0,\n",
       " 'total_score': 2}"
      ]
     },
     "execution_count": 13,
     "metadata": {},
     "output_type": "execute_result"
    }
   ],
   "source": [
    "# Test with app description\n",
    "keto_brain_weighted_result = check_compliance_with_weights(keto_brain_description)\n",
    "\n",
    "# Display results\n",
    "keto_brain_weighted_result"
   ]
  },
  {
   "cell_type": "code",
   "execution_count": null,
   "id": "5600dfef",
   "metadata": {},
   "outputs": [],
   "source": []
  },
  {
   "cell_type": "code",
   "execution_count": 14,
   "id": "a92b9102",
   "metadata": {},
   "outputs": [
    {
     "name": "stdout",
     "output_type": "stream",
     "text": [
      "Compliance Check Summary:\n",
      "\n",
      "App Classification: Likely Doesn't need to be Regulated\n",
      "Total Score: 2\n"
     ]
    }
   ],
   "source": [
    "# Run classification\n",
    "keto_label = run_classification(keto_brain_weighted_result)"
   ]
  },
  {
   "cell_type": "code",
   "execution_count": null,
   "id": "aad42496",
   "metadata": {},
   "outputs": [],
   "source": []
  },
  {
   "cell_type": "code",
   "execution_count": null,
   "id": "e3e62918",
   "metadata": {},
   "outputs": [],
   "source": []
  },
  {
   "cell_type": "markdown",
   "id": "751e14f5",
   "metadata": {},
   "source": [
    "### Third Test Run"
   ]
  },
  {
   "cell_type": "code",
   "execution_count": 15,
   "id": "457f8cc4",
   "metadata": {},
   "outputs": [],
   "source": [
    "tata_app_name = {\n",
    "        \"App Name\": \"TATA 1mg Online Healthcare App\",\n",
    "        \"App URL\": \"https://play.google.com/store/apps/details?id=com.aranoah.healthkart.plus\"\n",
    "}\n",
    "\n",
    "\n",
    "tata_detail = {\n",
    "    \"title\": \"TATA 1mg Online Healthcare App\",\n",
    "    \"description\": \"\"\"\n",
    "About Tata 1mg\n",
    "\n",
    "We are India's leading, and most-trusted online pharmacy and healthcare app. From doctor consultations on chat to online medicine delivery and lab tests at home, we have it all covered for you. We are active in 1000+ cities, including Delhi, Gurgaon, Noida, Mumbai, Pune, Ahmedabad, Lucknow, Bangalore, Kolkata, and many more.\n",
    "\n",
    "At Tata 1mg, you can:\n",
    "- Order Medicines Online\n",
    "- Book Lab Tests\n",
    "- Consult Doctors Online\n",
    "- Read Health Tips\n",
    "- View Medicine Information\n",
    "- Set Medicine Reminders\n",
    "\n",
    "Get medicines and health products delivered at home with same-day or next-day delivery. Download the Tata 1mg app now.\n",
    "\n",
    "Your Favourite Online Pharmacy:\n",
    "With over 2 lakh allopathy medicines available at the best prices, Tata 1mg is your one-stop destination for Homeopathy and Ayurvedic medicines, health supplements, personal hygiene, and more. Choose from top brands like Dabur, Himalaya, SBL Homeopathy, Organic India, Accu-Chek, OneTouch, and more.\n",
    "\n",
    "Easily upload your list of medicines on our app, and we will place your order for you. Now, avail of the best discounts and savings on medical bills. Check all our offers here.\n",
    "\n",
    "All products sold on our pharmacy app come with a 100% genuine guarantee.\n",
    "\n",
    "Book Lab Tests & Health Check-ups:\n",
    "Book health check-ups and lab tests from the comfort of your home at the best prices. Tata 1mg offers bookings for over 2,000 tests, tested by 120+ top verified labs such as Dr. Lal Path Labs, SRL Diagnostics, and Thyrocare. Enjoy free home sample collection and online report access.\n",
    "\n",
    "Get the best discounts on diagnostic services like blood tests, thyroid tests, diabetes tests, and more.\n",
    "\n",
    "Consult India’s Best Doctors Online for Free:\n",
    "Our health app allows you to consult doctors online from the comfort of your home. Chat privately with registered medical specialists. Find doctors and book appointments from all specialties, including General Physicians, Gynaecologists, Dermatologists, Urologists, Gastroenterologists, Pediatricians, and Neurologists.\n",
    "\n",
    "View Medicine Information:\n",
    "Besides being an online pharmacy app, we provide accurate, authoritative, and trustworthy information on medicines to help people use their medications safely. Information includes treatment uses, side effects, usage recommendations, safety warnings, expert advice, and answers to patient FAQs.\n",
    "\n",
    "Read Regular Health Tips:\n",
    "Get personal and useful health tips written by expert doctors. Topics include Ayurveda benefits, maintaining personal hygiene, early warning symptoms of various diseases, and more.\n",
    "\n",
    "Awards & Recognition:\n",
    "At Tata 1mg, our goal is to make healthcare understandable, accessible, and affordable. Since our journey began in 2015, we have been recognized with titles such as:\n",
    "- BML Munjal Award for 'Business Excellence through Learning & Development'\n",
    "- Best Online Pharmacy in India Award\n",
    "- Top 50 venture in The Smart CEO-Startup50 India\n",
    "- India's only ISO/IEC 27001 & LegitScript certified online healthcare platform\n",
    "- VC Circle Award for \"Most Promising Healthcare Startup\"\n",
    "- Ranked Top App in Medical Category in India for Android & iOS\n",
    "- Recognized by the Government of India - Ministry of Health & Family Welfare as a trusted m-health initiative\n",
    "\n",
    "We have been selected as the only company globally for SD#3 \"Health & Well Being for all\" by the Unreasonable Group and the US State Department.\n",
    "    \"\"\",\n",
    "    \"installs\": \"10,000,000+\",\n",
    "    \"score\": 4.77,\n",
    "    \"free\": True,\n",
    "    \"developer\": \"Tata 1MG Healthcare Solutions Private Limited\",\n",
    "    \"genre\": \"Medical\",\n",
    "    \"appId\": \"com.aranoah.healthkart.plus\"\n",
    "}"
   ]
  },
  {
   "cell_type": "code",
   "execution_count": null,
   "id": "c6bea437",
   "metadata": {},
   "outputs": [],
   "source": []
  },
  {
   "cell_type": "code",
   "execution_count": 16,
   "id": "3b3a7c0c",
   "metadata": {},
   "outputs": [
    {
     "name": "stdout",
     "output_type": "stream",
     "text": [
      "Compliance Check Results:\n",
      "\n",
      "body: None\n",
      "Privacy: None\n",
      "Data Security: None\n",
      "User Consent and Transparency: None\n",
      "Misleading or Deceptive Terms: None\n",
      "Health Information: None\n",
      "Breach Notification: None\n",
      "Children’s Data: None\n",
      "licensed: 100% genuine guarantee\n",
      "diagnosis: treatment, lab tests, medical, healthcare, health check-ups, doctor consultations, treatment uses\n",
      "AI: AI\n"
     ]
    }
   ],
   "source": [
    "tata_brain_description = tata_detail.get(\"description\", \"\")\n",
    "tata_brain_compliance_result = check_compliance(tata_brain_description)\n",
    "\n",
    "# Display the results\n",
    "print_compliance_results(tata_brain_compliance_result)"
   ]
  },
  {
   "cell_type": "code",
   "execution_count": null,
   "id": "3cdd6c89",
   "metadata": {},
   "outputs": [],
   "source": []
  },
  {
   "cell_type": "code",
   "execution_count": 17,
   "id": "9374402a",
   "metadata": {},
   "outputs": [
    {
     "data": {
      "text/plain": [
       "{'high_weight_count': 7,\n",
       " 'medium_weight_count': 2,\n",
       " 'low_weight_count': 0,\n",
       " 'total_score': 25}"
      ]
     },
     "execution_count": 17,
     "metadata": {},
     "output_type": "execute_result"
    }
   ],
   "source": [
    "# Test with app description\n",
    "tata_brain_weighted_result = check_compliance_with_weights(tata_brain_description)\n",
    "\n",
    "# Display results\n",
    "tata_brain_weighted_result"
   ]
  },
  {
   "cell_type": "code",
   "execution_count": null,
   "id": "3f37a839",
   "metadata": {},
   "outputs": [],
   "source": []
  },
  {
   "cell_type": "code",
   "execution_count": 18,
   "id": "f18890cd",
   "metadata": {},
   "outputs": [
    {
     "name": "stdout",
     "output_type": "stream",
     "text": [
      "Compliance Check Summary:\n",
      "\n",
      "App Classification: Should be Regulated\n",
      "Total Score: 25\n"
     ]
    }
   ],
   "source": [
    "# Run classification\n",
    "tata_label = run_classification(tata_brain_weighted_result)"
   ]
  },
  {
   "cell_type": "code",
   "execution_count": null,
   "id": "a6d70ccb",
   "metadata": {},
   "outputs": [],
   "source": []
  },
  {
   "cell_type": "code",
   "execution_count": null,
   "id": "394ca612",
   "metadata": {},
   "outputs": [],
   "source": []
  },
  {
   "cell_type": "markdown",
   "id": "53fb6ac2",
   "metadata": {},
   "source": [
    "### Fourth Test Run"
   ]
  },
  {
   "cell_type": "code",
   "execution_count": 19,
   "id": "f8c5be68",
   "metadata": {},
   "outputs": [],
   "source": [
    "ai_dermatologist_app_name = {\n",
    "        \"App Name\": \"AI Dermatologist: Skin Scanner\",\n",
    "        \"App URL\": \"https://play.google.com/store/apps/details?id=com.aidermatologist\"\n",
    "}\n",
    "\n",
    "\n",
    "ai_dermatologist_detail = {\n",
    "    \"title\": \"AI Dermatologist: Skin Scanner\",\n",
    "    \"description\": \"\"\"\n",
    "AI-Dermatologist: Your Personal Skin Health Monitoring App\n",
    "\n",
    "Experience AI-Dermatologist, a cutting-edge app for monitoring skin health and identifying potential skin conditions that may require attention.\n",
    "\n",
    "With AI-Dermatologist, you can:\n",
    "- Capture and monitor skin spots, birthmarks, moles, and other skin conditions, including angiomas, warts, and papillomas.\n",
    "- Track changes over time by uploading and saving photos.\n",
    "- Log the locations of skin conditions on your body for organized record-keeping.\n",
    "- Receive reminders to take new photos and update your skin health records.\n",
    "- Monitor trends in baseline and follow-up results for a holistic view of skin health.\n",
    "\n",
    "Note: AI-Dermatologist is not a diagnostic tool and does not replace a doctor’s visit. This app is for self-examination purposes, not an online dermatology service. For symptoms such as irritation, itchiness, or bleeding, consult a healthcare professional promptly to address potential risks like melanoma.\n",
    "\n",
    "Download AI-Dermatologist and leverage the power of AI and dermatological expertise to prioritize your skin health.\n",
    "\n",
    "Terms of Use: http://ai-derm.com/terms/terms_of_use.html\n",
    "Privacy Policy: http://ai-derm.com/privacy/privacy.html\n",
    "    \"\"\",\n",
    "    \"installs\": \"100,000+\",\n",
    "    \"score\": 4.52,\n",
    "    \"free\": True,\n",
    "    \"developer\": \"Acina\",\n",
    "    \"genre\": \"Health & Fitness\",\n",
    "    \"appId\": \"com.aidermatologist\"\n",
    "}"
   ]
  },
  {
   "cell_type": "code",
   "execution_count": null,
   "id": "2a3831ff",
   "metadata": {},
   "outputs": [],
   "source": []
  },
  {
   "cell_type": "code",
   "execution_count": 20,
   "id": "9e5a2d0f",
   "metadata": {},
   "outputs": [
    {
     "name": "stdout",
     "output_type": "stream",
     "text": [
      "Compliance Check Results:\n",
      "\n",
      "body: None\n",
      "Privacy: privacy\n",
      "Data Security: None\n",
      "User Consent and Transparency: privacy policy\n",
      "Misleading or Deceptive Terms: None\n",
      "Health Information: None\n",
      "Breach Notification: None\n",
      "Children’s Data: None\n",
      "licensed: None\n",
      "diagnosis: healthcare\n",
      "AI: AI\n"
     ]
    }
   ],
   "source": [
    "ai_dermatologist_description = ai_dermatologist_detail.get(\"description\", \"\")\n",
    "ai_dermatologist_compliance_result = check_compliance(ai_dermatologist_description)\n",
    "\n",
    "# Display the results\n",
    "print_compliance_results(ai_dermatologist_compliance_result)"
   ]
  },
  {
   "cell_type": "code",
   "execution_count": null,
   "id": "683c54cb",
   "metadata": {},
   "outputs": [],
   "source": []
  },
  {
   "cell_type": "code",
   "execution_count": 21,
   "id": "22408ff0",
   "metadata": {},
   "outputs": [
    {
     "data": {
      "text/plain": [
       "{'high_weight_count': 3,\n",
       " 'medium_weight_count': 1,\n",
       " 'low_weight_count': 0,\n",
       " 'total_score': 11}"
      ]
     },
     "execution_count": 21,
     "metadata": {},
     "output_type": "execute_result"
    }
   ],
   "source": [
    "# Test with app description\n",
    "ai_dermatologist_weighted_result = check_compliance_with_weights(ai_dermatologist_description)\n",
    "\n",
    "# Display results\n",
    "ai_dermatologist_weighted_result"
   ]
  },
  {
   "cell_type": "code",
   "execution_count": null,
   "id": "9697426d",
   "metadata": {},
   "outputs": [],
   "source": []
  },
  {
   "cell_type": "code",
   "execution_count": 22,
   "id": "afbb1122",
   "metadata": {},
   "outputs": [
    {
     "name": "stdout",
     "output_type": "stream",
     "text": [
      "Compliance Check Summary:\n",
      "\n",
      "App Classification: Should be Regulated\n",
      "Total Score: 11\n"
     ]
    }
   ],
   "source": [
    "# Run classification\n",
    "ai_dermatologist_label = run_classification(ai_dermatologist_weighted_result)"
   ]
  },
  {
   "cell_type": "code",
   "execution_count": null,
   "id": "5f6bc7e1",
   "metadata": {},
   "outputs": [],
   "source": []
  },
  {
   "cell_type": "code",
   "execution_count": null,
   "id": "4379c0cd",
   "metadata": {},
   "outputs": [],
   "source": []
  },
  {
   "cell_type": "code",
   "execution_count": 25,
   "id": "82a88da9",
   "metadata": {},
   "outputs": [],
   "source": [
    "import pandas as pd\n",
    "\n",
    "# Data for the test cases \n",
    "data = {\n",
    "    \"App_Name\": [\n",
    "        k_health_app_name[\"App Name\"], \n",
    "        keto_brain_app_name[\"App Name\"], \n",
    "        tata_app_name[\"App Name\"],\n",
    "        ai_dermatologist_app_name[\"App Name\"]\n",
    "    ],\n",
    "    \"App_Desc\": [\n",
    "        k_health_detail[\"description\"], \n",
    "        keto_brain_detail[\"description\"], \n",
    "        tata_detail[\"description\"],\n",
    "        ai_dermatologist_detail[\"description\"]\n",
    "    ],\n",
    "    \"App_Score\": [\n",
    "        k_health_weighted_result[\"total_score\"], \n",
    "        keto_brain_weighted_result[\"total_score\"], \n",
    "        tata_brain_weighted_result[\"total_score\"],\n",
    "        ai_dermatologist_weighted_result[\"total_score\"]\n",
    "    ],\n",
    "    \"App_Label\": [\n",
    "        k_label, \n",
    "        keto_label,\n",
    "        tata_label,\n",
    "        ai_dermatologist_label\n",
    "    ]\n",
    "}"
   ]
  },
  {
   "cell_type": "code",
   "execution_count": null,
   "id": "c288cd12",
   "metadata": {},
   "outputs": [],
   "source": []
  },
  {
   "cell_type": "code",
   "execution_count": 26,
   "id": "ab22fea7",
   "metadata": {},
   "outputs": [
    {
     "data": {
      "text/html": [
       "<div>\n",
       "<style scoped>\n",
       "    .dataframe tbody tr th:only-of-type {\n",
       "        vertical-align: middle;\n",
       "    }\n",
       "\n",
       "    .dataframe tbody tr th {\n",
       "        vertical-align: top;\n",
       "    }\n",
       "\n",
       "    .dataframe thead th {\n",
       "        text-align: right;\n",
       "    }\n",
       "</style>\n",
       "<table border=\"1\" class=\"dataframe\">\n",
       "  <thead>\n",
       "    <tr style=\"text-align: right;\">\n",
       "      <th></th>\n",
       "      <th>App_Name</th>\n",
       "      <th>App_Desc</th>\n",
       "      <th>App_Score</th>\n",
       "      <th>App_Label</th>\n",
       "    </tr>\n",
       "  </thead>\n",
       "  <tbody>\n",
       "    <tr>\n",
       "      <th>0</th>\n",
       "      <td>K Health | 24/7 Virtual Care</td>\n",
       "      <td>24/7 ACCESS TO HIGH-QUALITY MEDICAL CARE FROM ...</td>\n",
       "      <td>20</td>\n",
       "      <td>Should be Regulated</td>\n",
       "    </tr>\n",
       "    <tr>\n",
       "      <th>1</th>\n",
       "      <td>MyKetoBrain</td>\n",
       "      <td>\\n    Elevate your keto journey with our Keto ...</td>\n",
       "      <td>2</td>\n",
       "      <td>Likely Doesn't need to be Regulated</td>\n",
       "    </tr>\n",
       "    <tr>\n",
       "      <th>2</th>\n",
       "      <td>TATA 1mg Online Healthcare App</td>\n",
       "      <td>\\nAbout Tata 1mg\\n\\nWe are India's leading, an...</td>\n",
       "      <td>25</td>\n",
       "      <td>Should be Regulated</td>\n",
       "    </tr>\n",
       "    <tr>\n",
       "      <th>3</th>\n",
       "      <td>AI Dermatologist: Skin Scanner</td>\n",
       "      <td>\\nAI-Dermatologist: Your Personal Skin Health ...</td>\n",
       "      <td>11</td>\n",
       "      <td>Should be Regulated</td>\n",
       "    </tr>\n",
       "  </tbody>\n",
       "</table>\n",
       "</div>"
      ],
      "text/plain": [
       "                         App_Name  ...                            App_Label\n",
       "0    K Health | 24/7 Virtual Care  ...                  Should be Regulated\n",
       "1                     MyKetoBrain  ...  Likely Doesn't need to be Regulated\n",
       "2  TATA 1mg Online Healthcare App  ...                  Should be Regulated\n",
       "3  AI Dermatologist: Skin Scanner  ...                  Should be Regulated\n",
       "\n",
       "[4 rows x 4 columns]"
      ]
     },
     "execution_count": 26,
     "metadata": {},
     "output_type": "execute_result"
    }
   ],
   "source": [
    "# Create DataFrame\n",
    "app_df = pd.DataFrame(data)\n",
    "\n",
    "app_df.head()"
   ]
  },
  {
   "cell_type": "code",
   "execution_count": null,
   "id": "9008d532",
   "metadata": {},
   "outputs": [],
   "source": []
  },
  {
   "cell_type": "code",
   "execution_count": 27,
   "id": "ee924460",
   "metadata": {},
   "outputs": [
    {
     "data": {
      "text/html": [
       "<div>\n",
       "<style scoped>\n",
       "    .dataframe tbody tr th:only-of-type {\n",
       "        vertical-align: middle;\n",
       "    }\n",
       "\n",
       "    .dataframe tbody tr th {\n",
       "        vertical-align: top;\n",
       "    }\n",
       "\n",
       "    .dataframe thead th {\n",
       "        text-align: right;\n",
       "    }\n",
       "</style>\n",
       "<table border=\"1\" class=\"dataframe\">\n",
       "  <thead>\n",
       "    <tr style=\"text-align: right;\">\n",
       "      <th></th>\n",
       "      <th>App_Name</th>\n",
       "      <th>App_Desc</th>\n",
       "      <th>App_Score</th>\n",
       "      <th>App_Label</th>\n",
       "      <th>Binary_Label</th>\n",
       "    </tr>\n",
       "  </thead>\n",
       "  <tbody>\n",
       "    <tr>\n",
       "      <th>0</th>\n",
       "      <td>K Health | 24/7 Virtual Care</td>\n",
       "      <td>24/7 ACCESS TO HIGH-QUALITY MEDICAL CARE FROM ...</td>\n",
       "      <td>20</td>\n",
       "      <td>Should be Regulated</td>\n",
       "      <td>1</td>\n",
       "    </tr>\n",
       "    <tr>\n",
       "      <th>1</th>\n",
       "      <td>MyKetoBrain</td>\n",
       "      <td>\\n    Elevate your keto journey with our Keto ...</td>\n",
       "      <td>2</td>\n",
       "      <td>Likely Doesn't need to be Regulated</td>\n",
       "      <td>0</td>\n",
       "    </tr>\n",
       "    <tr>\n",
       "      <th>2</th>\n",
       "      <td>TATA 1mg Online Healthcare App</td>\n",
       "      <td>\\nAbout Tata 1mg\\n\\nWe are India's leading, an...</td>\n",
       "      <td>25</td>\n",
       "      <td>Should be Regulated</td>\n",
       "      <td>1</td>\n",
       "    </tr>\n",
       "    <tr>\n",
       "      <th>3</th>\n",
       "      <td>AI Dermatologist: Skin Scanner</td>\n",
       "      <td>\\nAI-Dermatologist: Your Personal Skin Health ...</td>\n",
       "      <td>11</td>\n",
       "      <td>Should be Regulated</td>\n",
       "      <td>1</td>\n",
       "    </tr>\n",
       "  </tbody>\n",
       "</table>\n",
       "</div>"
      ],
      "text/plain": [
       "                         App_Name  ... Binary_Label\n",
       "0    K Health | 24/7 Virtual Care  ...            1\n",
       "1                     MyKetoBrain  ...            0\n",
       "2  TATA 1mg Online Healthcare App  ...            1\n",
       "3  AI Dermatologist: Skin Scanner  ...            1\n",
       "\n",
       "[4 rows x 5 columns]"
      ]
     },
     "execution_count": 27,
     "metadata": {},
     "output_type": "execute_result"
    }
   ],
   "source": [
    "# Adding a binary label column based on App_Label\n",
    "app_df['Binary_Label'] = app_df['App_Label'].apply(lambda x: 1 if x == \"Should be Regulated\" else 0)\n",
    "\n",
    "app_df"
   ]
  },
  {
   "cell_type": "code",
   "execution_count": null,
   "id": "43388755",
   "metadata": {},
   "outputs": [],
   "source": []
  },
  {
   "cell_type": "code",
   "execution_count": null,
   "id": "71315b7b",
   "metadata": {},
   "outputs": [],
   "source": []
  },
  {
   "cell_type": "code",
   "execution_count": null,
   "id": "c925e9a9",
   "metadata": {},
   "outputs": [],
   "source": []
  },
  {
   "cell_type": "markdown",
   "id": "3ce49594",
   "metadata": {},
   "source": [
    "### Import the 1,022 App names & descriptions"
   ]
  },
  {
   "cell_type": "code",
   "execution_count": 32,
   "id": "24bbae7e",
   "metadata": {},
   "outputs": [
    {
     "name": "stdout",
     "output_type": "stream",
     "text": [
      "{'App Name': 'AO Surgery Reference', 'App URL': 'https://play.google.com/store/apps/details?id=af.org.aofoundation.AOSR', 'details': {'title': 'AO Surgery Reference', 'description': \"QUICK ONLINE REFERENCE IN CLINICAL LIFE\\r\\n\\r\\nGain easy access to the award-winning AO Surgery Reference. AO Surgery Reference is an online repository for surgical knowledge. It describes the complete surgical management process from diagnosis to aftercare for all fractures of a given anatomical region, and also assembles relevant material that the AO has published before. It gives access to:\\r\\n\\r\\n    • aid in surgical decision making for 353 fracture types\\r\\n    • 172 approaches\\r\\n    • 1222 surgical procedures\\r\\n    • all richly illustrated with more than 30'000 Illustrations\\r\\n\\r\\nand much more.\\r\\n\\r\\nTo ensure the quality of the content, it is authored, edited, and peer reviewed by experienced AO Faculty from all over the world, some of which are also well-known textbook authors/editors.\\r\\n\\r\\nThis is a relaunch of the AO Surgery Reference app utilizing the same responsive user interface that was released February 2020.\\r\\nThe highlights are:\\r\\n    • Consistent navigational logic and user experience on all screen sizes\\r\\n    • Inclusion of feline, canine, and equine fracture care\\r\\n    • Combination of Preparation – Approach – Reduction and Fixation – Aftercare into one step called treatment.\\r\\n    • Introduction of a powerful search function, allowing simplifications of the user interface as it replaces previous shortcuts.\", 'installs': '100,000+', 'score': 4.357143, 'free': True, 'developer': 'AO Foundation', 'genre': 'Medical', 'appId': 'af.org.aofoundation.AOSR'}}\n"
     ]
    }
   ],
   "source": [
    "import json\n",
    "\n",
    "# Load the cleaned data from JSON file\n",
    "file_path = 'C:/Users/User/Desktop/MSc Data Science/RA, Prof Raina/apple_scrapper/playstore_scraper/'\n",
    "file_name = 'cleaned_app_data.json'\n",
    "\n",
    "with open(file_path + file_name, 'r') as file:\n",
    "    app_data_list = json.load(file)\n",
    "\n",
    "print(app_data_list[0])"
   ]
  },
  {
   "cell_type": "code",
   "execution_count": null,
   "id": "07f7289c",
   "metadata": {},
   "outputs": [],
   "source": []
  },
  {
   "cell_type": "code",
   "execution_count": 38,
   "id": "2cfa99ce",
   "metadata": {},
   "outputs": [],
   "source": [
    "import pandas as pd\n",
    "\n",
    "# Function to create DataFrame from a list of app data dictionaries\n",
    "def create_df(app_data_list):\n",
    "    # Initialize an empty list to store each app's processed data\n",
    "    data = []\n",
    "    \n",
    "    # Loop through each app data dictionary in the list\n",
    "    for app_data in app_data_list:\n",
    "        # Extract the necessary fields\n",
    "        app_name = app_data.get('App Name', 'Unknown')\n",
    "        app_desc = app_data['details'].get('description', 'No description available')\n",
    "        \n",
    "        # Assuming check_compliance_with_weights and run_classification are defined functions\n",
    "        compliance_scores = check_compliance_with_weights(app_desc)  # Should return a dict with 'total_score'\n",
    "        app_score = compliance_scores['total_score']\n",
    "        \n",
    "        # Run classification on compliance scores to get a label\n",
    "        app_label = run_classification(compliance_scores)\n",
    "        \n",
    "        # Assign binary label based on app classification\n",
    "        binary_label = 1 if app_label == \"Should be Regulated\" else 0\n",
    "        \n",
    "        # Append the processed data as a dictionary to the data list\n",
    "        data.append({\n",
    "            'App_Name': app_name,\n",
    "            'App_Desc': app_desc,\n",
    "            'App_Score': app_score,\n",
    "            'App_Label': app_label,\n",
    "            'Binary_Label': binary_label\n",
    "        })\n",
    "    \n",
    "    # Create a DataFrame from the list of dictionaries\n",
    "    app_df = pd.DataFrame(data)\n",
    "    return app_df"
   ]
  },
  {
   "cell_type": "code",
   "execution_count": null,
   "id": "b4f47661",
   "metadata": {},
   "outputs": [],
   "source": []
  },
  {
   "cell_type": "code",
   "execution_count": 39,
   "id": "508e3e51",
   "metadata": {},
   "outputs": [
    {
     "data": {
      "text/html": [
       "<div>\n",
       "<style scoped>\n",
       "    .dataframe tbody tr th:only-of-type {\n",
       "        vertical-align: middle;\n",
       "    }\n",
       "\n",
       "    .dataframe tbody tr th {\n",
       "        vertical-align: top;\n",
       "    }\n",
       "\n",
       "    .dataframe thead th {\n",
       "        text-align: right;\n",
       "    }\n",
       "</style>\n",
       "<table border=\"1\" class=\"dataframe\">\n",
       "  <thead>\n",
       "    <tr style=\"text-align: right;\">\n",
       "      <th></th>\n",
       "      <th>App_Name</th>\n",
       "      <th>App_Desc</th>\n",
       "      <th>App_Score</th>\n",
       "      <th>App_Label</th>\n",
       "      <th>Binary_Label</th>\n",
       "    </tr>\n",
       "  </thead>\n",
       "  <tbody>\n",
       "    <tr>\n",
       "      <th>0</th>\n",
       "      <td>AO Surgery Reference</td>\n",
       "      <td>QUICK ONLINE REFERENCE IN CLINICAL LIFE\\r\\n\\r\\...</td>\n",
       "      <td>11</td>\n",
       "      <td>Should be Regulated</td>\n",
       "      <td>1</td>\n",
       "    </tr>\n",
       "    <tr>\n",
       "      <th>1</th>\n",
       "      <td>Bio Inc Plague Doctor Offline</td>\n",
       "      <td>Bio Inc is a biomedical strategy simulator in ...</td>\n",
       "      <td>5</td>\n",
       "      <td>Likely Doesn't need to be Regulated</td>\n",
       "      <td>0</td>\n",
       "    </tr>\n",
       "    <tr>\n",
       "      <th>2</th>\n",
       "      <td>Qevlar Radiology</td>\n",
       "      <td>Discover our new medical quiz application !\\r\\...</td>\n",
       "      <td>8</td>\n",
       "      <td>Partially - Should be Regulated</td>\n",
       "      <td>0</td>\n",
       "    </tr>\n",
       "    <tr>\n",
       "      <th>3</th>\n",
       "      <td>Posture by Muscle &amp; Motion</td>\n",
       "      <td>Groundbreaking new premium app in the field of...</td>\n",
       "      <td>8</td>\n",
       "      <td>Partially - Should be Regulated</td>\n",
       "      <td>0</td>\n",
       "    </tr>\n",
       "    <tr>\n",
       "      <th>4</th>\n",
       "      <td>MyHeritage: Family Tree &amp; DNA</td>\n",
       "      <td>&lt;b&gt; Explore your roots, find new relatives, an...</td>\n",
       "      <td>4</td>\n",
       "      <td>Likely Doesn't need to be Regulated</td>\n",
       "      <td>0</td>\n",
       "    </tr>\n",
       "    <tr>\n",
       "      <th>5</th>\n",
       "      <td>Lab Test Reference Range</td>\n",
       "      <td>This app is designed to provide general inform...</td>\n",
       "      <td>0</td>\n",
       "      <td>Likely Doesn't need to be Regulated</td>\n",
       "      <td>0</td>\n",
       "    </tr>\n",
       "    <tr>\n",
       "      <th>6</th>\n",
       "      <td>Joint Academy</td>\n",
       "      <td>Joint Academy offers a clinically proven, digi...</td>\n",
       "      <td>12</td>\n",
       "      <td>Partially - Should be Regulated</td>\n",
       "      <td>0</td>\n",
       "    </tr>\n",
       "    <tr>\n",
       "      <th>7</th>\n",
       "      <td>K Health | 24/7 Virtual Care</td>\n",
       "      <td>24/7 ACCESS TO HIGH-QUALITY MEDICAL CARE FROM ...</td>\n",
       "      <td>29</td>\n",
       "      <td>Should be Regulated</td>\n",
       "      <td>1</td>\n",
       "    </tr>\n",
       "    <tr>\n",
       "      <th>8</th>\n",
       "      <td>Heart Monitor: Measure BP &amp; HR</td>\n",
       "      <td>Heart Monitor introduces a groundbreaking way ...</td>\n",
       "      <td>14</td>\n",
       "      <td>Should be Regulated</td>\n",
       "      <td>1</td>\n",
       "    </tr>\n",
       "    <tr>\n",
       "      <th>9</th>\n",
       "      <td>Nile AI</td>\n",
       "      <td>NILE\\r\\n\\r\\nTHE PREFERRED DIARY APP OF THE EPI...</td>\n",
       "      <td>20</td>\n",
       "      <td>Should be Regulated</td>\n",
       "      <td>1</td>\n",
       "    </tr>\n",
       "  </tbody>\n",
       "</table>\n",
       "</div>"
      ],
      "text/plain": [
       "                         App_Name  ... Binary_Label\n",
       "0            AO Surgery Reference  ...            1\n",
       "1   Bio Inc Plague Doctor Offline  ...            0\n",
       "2                Qevlar Radiology  ...            0\n",
       "3      Posture by Muscle & Motion  ...            0\n",
       "4   MyHeritage: Family Tree & DNA  ...            0\n",
       "5        Lab Test Reference Range  ...            0\n",
       "6                   Joint Academy  ...            0\n",
       "7    K Health | 24/7 Virtual Care  ...            1\n",
       "8  Heart Monitor: Measure BP & HR  ...            1\n",
       "9                         Nile AI  ...            1\n",
       "\n",
       "[10 rows x 5 columns]"
      ]
     },
     "execution_count": 39,
     "metadata": {},
     "output_type": "execute_result"
    }
   ],
   "source": [
    "# Example usage with cleaned_app_data list\n",
    "app_df = create_df(app_data_list)\n",
    "\n",
    "app_df.head(10)"
   ]
  },
  {
   "cell_type": "code",
   "execution_count": 40,
   "id": "de02df4f",
   "metadata": {},
   "outputs": [
    {
     "data": {
      "text/plain": [
       "(1018, 5)"
      ]
     },
     "execution_count": 40,
     "metadata": {},
     "output_type": "execute_result"
    }
   ],
   "source": [
    "app_df.shape"
   ]
  },
  {
   "cell_type": "code",
   "execution_count": null,
   "id": "424644b4",
   "metadata": {},
   "outputs": [],
   "source": []
  },
  {
   "cell_type": "code",
   "execution_count": null,
   "id": "dbb5a846",
   "metadata": {},
   "outputs": [],
   "source": []
  },
  {
   "cell_type": "code",
   "execution_count": null,
   "id": "f8855796",
   "metadata": {},
   "outputs": [],
   "source": []
  },
  {
   "cell_type": "code",
   "execution_count": null,
   "id": "c42c4dcb",
   "metadata": {},
   "outputs": [],
   "source": []
  },
  {
   "cell_type": "code",
   "execution_count": null,
   "id": "4d868bba",
   "metadata": {},
   "outputs": [],
   "source": []
  },
  {
   "cell_type": "code",
   "execution_count": null,
   "id": "7b4d8285",
   "metadata": {},
   "outputs": [],
   "source": []
  },
  {
   "cell_type": "markdown",
   "id": "353b5858",
   "metadata": {},
   "source": [
    "### Set Up BERT Embeddings for Text Representation"
   ]
  },
  {
   "cell_type": "code",
   "execution_count": null,
   "id": "fadb7c2a",
   "metadata": {},
   "outputs": [],
   "source": [
    "!pip install transformers"
   ]
  },
  {
   "cell_type": "code",
   "execution_count": null,
   "id": "5e00cec4",
   "metadata": {},
   "outputs": [],
   "source": [
    "from transformers import BertTokenizer, BertModel\n",
    "import torch\n",
    "\n",
    "# Load pre-trained BERT model and tokenizer\n",
    "tokenizer = BertTokenizer.from_pretrained(\"bert-base-uncased\")\n",
    "model = BertModel.from_pretrained(\"bert-base-uncased\")\n",
    "\n",
    "# Tokenize and create embeddings\n",
    "def get_bert_embeddings(text):\n",
    "    tokens = tokenizer(text, return_tensors=\"pt\", truncation=True, padding=\"max_length\", max_length=128)\n",
    "    with torch.no_grad():\n",
    "        outputs = model(**tokens)\n",
    "    # Use the embeddings from the [CLS] token for classification\n",
    "    embeddings = outputs.last_hidden_state[:, 0, :].squeeze().numpy()\n",
    "    return embeddings\n",
    "\n",
    "# Create embeddings for all app descriptions in the App_Desc column\n",
    "embeddings = [get_bert_embeddings(desc) for desc in df[\"App_Desc\"]]"
   ]
  },
  {
   "cell_type": "code",
   "execution_count": null,
   "id": "9e62b6f1",
   "metadata": {},
   "outputs": [],
   "source": []
  },
  {
   "cell_type": "markdown",
   "id": "c57b06cd",
   "metadata": {},
   "source": [
    "### Train a Classifier Using the Embeddings"
   ]
  },
  {
   "cell_type": "code",
   "execution_count": null,
   "id": "9c03be70",
   "metadata": {},
   "outputs": [],
   "source": [
    "from sklearn.linear_model import LogisticRegression\n",
    "from sklearn.model_selection import train_test_split\n",
    "from sklearn.metrics import classification_report, confusion_matrix\n",
    "\n",
    "# Replace with actual labels for \"should be regulated\" (1) or \"not regulated\" (0)\n",
    "labels = df[\"App_Label_01\"].tolist()  # Placeholder labels\n",
    "\n",
    "# Split the data into train and test sets\n",
    "X_train, X_test, y_train, y_test = train_test_split(embeddings, labels, test_size=0.2, random_state=42)\n",
    "\n",
    "# Train a logistic regression classifier\n",
    "classifier = LogisticRegression()\n",
    "classifier.fit(X_train, y_train)\n",
    "\n",
    "# Evaluate the model\n",
    "y_pred = classifier.predict(X_test)\n",
    "print(\"Classification Report:\\n\", classification_report(y_test, y_pred))\n",
    "print(\"Confusion Matrix:\\n\", confusion_matrix(y_test, y_pred))"
   ]
  },
  {
   "cell_type": "code",
   "execution_count": null,
   "id": "4681412c",
   "metadata": {},
   "outputs": [],
   "source": []
  },
  {
   "cell_type": "markdown",
   "id": "704936dd",
   "metadata": {},
   "source": [
    "### Fine-Tune the Model Based on False Positives and Negatives"
   ]
  },
  {
   "cell_type": "code",
   "execution_count": null,
   "id": "1c47cba4",
   "metadata": {},
   "outputs": [],
   "source": [
    "# Predict probabilities\n",
    "y_probs = classifier.predict_proba(X_test)[:, 1]\n",
    "\n",
    "# Adjust threshold\n",
    "threshold = 0.6\n",
    "y_adjusted = [1 if prob > threshold else 0 for prob in y_probs]"
   ]
  },
  {
   "cell_type": "code",
   "execution_count": null,
   "id": "eb694b2b",
   "metadata": {},
   "outputs": [],
   "source": []
  },
  {
   "cell_type": "markdown",
   "id": "6498b6e2",
   "metadata": {},
   "source": [
    "### Fine-Tuning BERT Directly"
   ]
  },
  {
   "cell_type": "code",
   "execution_count": null,
   "id": "5b8e281f",
   "metadata": {},
   "outputs": [],
   "source": [
    "from transformers import BertForSequenceClassification, Trainer, TrainingArguments\n",
    "from datasets import Dataset\n",
    "\n",
    "# Prepare dataset from DataFrame columns for fine-tuning\n",
    "data = {\n",
    "    \"text\": df[\"App_Desc\"].tolist(),\n",
    "    \"label\": df[\"App_Label\"].tolist()\n",
    "}\n",
    "\n",
    "dataset = Dataset.from_dict(data)\n",
    "dataset = dataset.train_test_split(test_size=0.2)\n",
    "\n",
    "# Load model for sequence classification\n",
    "model = BertForSequenceClassification.from_pretrained(\"bert-base-uncased\", num_labels=2)\n",
    "\n",
    "# Training arguments\n",
    "training_args = TrainingArguments(\n",
    "    output_dir=\"./results\",\n",
    "    evaluation_strategy=\"epoch\",\n",
    "    logging_dir=\"./logs\",\n",
    "    num_train_epochs=3,\n",
    "    per_device_train_batch_size=4\n",
    ")\n",
    "\n",
    "# Trainer for fine-tuning\n",
    "trainer = Trainer(\n",
    "    model=model,\n",
    "    args=training_args,\n",
    "    train_dataset=dataset[\"train\"],\n",
    "    eval_dataset=dataset[\"test\"]\n",
    ")"
   ]
  },
  {
   "cell_type": "code",
   "execution_count": null,
   "id": "f05039d3",
   "metadata": {},
   "outputs": [],
   "source": [
    "# Fine-tune the model\n",
    "trainer.train()"
   ]
  },
  {
   "cell_type": "code",
   "execution_count": null,
   "id": "1c047e88",
   "metadata": {},
   "outputs": [],
   "source": [
    "# Evaluate the model\n",
    "trainer.evaluate()"
   ]
  },
  {
   "cell_type": "code",
   "execution_count": null,
   "id": "2b5cd320",
   "metadata": {},
   "outputs": [],
   "source": []
  },
  {
   "cell_type": "code",
   "execution_count": null,
   "id": "5982b455",
   "metadata": {},
   "outputs": [],
   "source": []
  },
  {
   "cell_type": "code",
   "execution_count": 28,
   "id": "509a9ba1",
   "metadata": {},
   "outputs": [
    {
     "name": "stdout",
     "output_type": "stream",
     "text": [
      "Requirement already satisfied: networkx in c:\\users\\user\\anaconda3\\lib\\site-packages (3.1)Note: you may need to restart the kernel to use updated packages.\n",
      "\n",
      "Requirement already satisfied: matplotlib in c:\\users\\user\\anaconda3\\lib\\site-packages (3.8.0)\n",
      "Requirement already satisfied: contourpy>=1.0.1 in c:\\users\\user\\anaconda3\\lib\\site-packages (from matplotlib) (1.2.0)\n",
      "Requirement already satisfied: cycler>=0.10 in c:\\users\\user\\anaconda3\\lib\\site-packages (from matplotlib) (0.11.0)\n",
      "Requirement already satisfied: fonttools>=4.22.0 in c:\\users\\user\\anaconda3\\lib\\site-packages (from matplotlib) (4.25.0)\n",
      "Requirement already satisfied: kiwisolver>=1.0.1 in c:\\users\\user\\anaconda3\\lib\\site-packages (from matplotlib) (1.4.4)\n",
      "Requirement already satisfied: numpy<2,>=1.21 in c:\\users\\user\\anaconda3\\lib\\site-packages (from matplotlib) (1.26.4)\n",
      "Requirement already satisfied: packaging>=20.0 in c:\\users\\user\\anaconda3\\lib\\site-packages (from matplotlib) (23.1)\n",
      "Requirement already satisfied: pillow>=6.2.0 in c:\\users\\user\\anaconda3\\lib\\site-packages (from matplotlib) (10.2.0)\n",
      "Requirement already satisfied: pyparsing>=2.3.1 in c:\\users\\user\\anaconda3\\lib\\site-packages (from matplotlib) (3.0.9)\n",
      "Requirement already satisfied: python-dateutil>=2.7 in c:\\users\\user\\anaconda3\\lib\\site-packages (from matplotlib) (2.8.2)\n",
      "Requirement already satisfied: six>=1.5 in c:\\users\\user\\anaconda3\\lib\\site-packages (from python-dateutil>=2.7->matplotlib) (1.16.0)\n"
     ]
    }
   ],
   "source": [
    "pip install networkx matplotlib"
   ]
  },
  {
   "cell_type": "code",
   "execution_count": 29,
   "id": "07dec7df",
   "metadata": {},
   "outputs": [
    {
     "data": {
      "image/png": "[encoded data removed]",
      "text/plain": [
       "<Figure size 1000x800 with 1 Axes>"
      ]
     },
     "metadata": {},
     "output_type": "display_data"
    }
   ],
   "source": [
    "import networkx as nx\n",
    "import matplotlib.pyplot as plt\n",
    "\n",
    "# Step 1: Define your entities and relations\n",
    "entities = {\n",
    "    7: \"D00001\",\n",
    "    8: \"Resource\",\n",
    "    11: \"Drug\",\n",
    "    15: \"Dailymed Entity\"\n",
    "    # Add more entities as needed\n",
    "}\n",
    "\n",
    "relations = {\n",
    "    0: \"related to\",\n",
    "    1: \"type of\",\n",
    "    2: \"contains\",\n",
    "    3: \"belongs to\"\n",
    "    # Define additional relation types if necessary\n",
    "}\n",
    "\n",
    "# Step 2: Define connections based on train2id.txt (small sample for illustration)\n",
    "edges = [\n",
    "    (7, 8, 0),  # D00001 -> Resource with relation type 0\n",
    "    (7, 11, 0), # D00001 -> Drug with relation type 0\n",
    "    (7, 15, 3), # D00001 -> Dailymed Entity with relation type 3\n",
    "    # Add more edges if needed\n",
    "]\n",
    "\n",
    "# Step 3: Create a NetworkX graph\n",
    "G = nx.DiGraph()\n",
    "\n",
    "# Step 4: Add nodes and edges\n",
    "for entity_id, entity_name in entities.items():\n",
    "    G.add_node(entity_id, label=entity_name)\n",
    "\n",
    "for head, tail, rel_type in edges:\n",
    "    G.add_edge(head, tail, label=relations.get(rel_type, \"related\"))\n",
    "\n",
    "# Step 5: Draw the graph\n",
    "pos = nx.spring_layout(G)  # or nx.circular_layout(G) for a circular arrangement\n",
    "plt.figure(figsize=(10, 8))\n",
    "\n",
    "# Draw nodes with labels\n",
    "nx.draw_networkx_nodes(G, pos, node_size=5000, node_color=\"skyblue\")\n",
    "nx.draw_networkx_labels(G, pos, labels=entities, font_size=12, font_color=\"black\")\n",
    "\n",
    "# Draw edges with labels\n",
    "nx.draw_networkx_edges(G, pos, arrowstyle='->', arrowsize=20)\n",
    "edge_labels = nx.get_edge_attributes(G, 'label')\n",
    "nx.draw_networkx_edge_labels(G, pos, edge_labels=edge_labels, font_size=10)\n",
    "\n",
    "plt.title(\"Knowledge Graph Visualization for Entity 'D00001'\")\n",
    "plt.show()"
   ]
  },
  {
   "cell_type": "code",
   "execution_count": null,
   "id": "b516252d",
   "metadata": {},
   "outputs": [],
   "source": []
  },
  {
   "cell_type": "code",
   "execution_count": null,
   "id": "0bc88b72",
   "metadata": {},
   "outputs": [],
   "source": []
  },
  {
   "cell_type": "code",
   "execution_count": null,
   "id": "f8458a1f",
   "metadata": {},
   "outputs": [],
   "source": []
  },
  {
   "cell_type": "code",
   "execution_count": null,
   "id": "52bdb803",
   "metadata": {},
   "outputs": [],
   "source": []
  },
  {
   "cell_type": "code",
   "execution_count": null,
   "id": "a54f787a",
   "metadata": {},
   "outputs": [],
   "source": []
  }
 ],
 "metadata": {
  "kernelspec": {
   "display_name": "Python 3 (ipykernel)",
   "language": "python",
   "name": "python3"
  },
  "language_info": {
   "codemirror_mode": {
    "name": "ipython",
    "version": 3
   },
   "file_extension": ".py",
   "mimetype": "text/x-python",
   "name": "python",
   "nbconvert_exporter": "python",
   "pygments_lexer": "ipython3",
   "version": "3.11.7"
  }
 },
 "nbformat": 4,
 "nbformat_minor": 5
}
